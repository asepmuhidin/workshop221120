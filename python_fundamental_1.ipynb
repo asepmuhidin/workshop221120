{
  "nbformat": 4,
  "nbformat_minor": 0,
  "metadata": {
    "colab": {
      "name": "python_fundamental_1.ipynb",
      "provenance": [],
      "authorship_tag": "ABX9TyMw5LUvUbS2bJqxLBoXf3tg",
      "include_colab_link": true
    },
    "kernelspec": {
      "name": "python3",
      "display_name": "Python 3"
    },
    "language_info": {
      "name": "python"
    }
  },
  "cells": [
    {
      "cell_type": "markdown",
      "metadata": {
        "id": "view-in-github",
        "colab_type": "text"
      },
      "source": [
        "<a href=\"https://colab.research.google.com/github/asepmuhidin/workshop221120/blob/main/python_fundamental_1.ipynb\" target=\"_parent\"><img src=\"https://colab.research.google.com/assets/colab-badge.svg\" alt=\"Open In Colab\"/></a>"
      ]
    },
    {
      "cell_type": "markdown",
      "metadata": {
        "id": "8kvitnzTdytX"
      },
      "source": [
        "# Python Fundamental\n"
      ]
    },
    {
      "cell_type": "code",
      "metadata": {
        "colab": {
          "base_uri": "https://localhost:8080/"
        },
        "id": "PiZMOzmGdtpd",
        "outputId": "6e08ea02-dc55-4a8e-8edc-a0a6b212cda3"
      },
      "source": [
        "print(\"Halo Dunia!..\")"
      ],
      "execution_count": 1,
      "outputs": [
        {
          "output_type": "stream",
          "name": "stdout",
          "text": [
            "Halo Dunia!..\n"
          ]
        }
      ]
    },
    {
      "cell_type": "code",
      "metadata": {
        "colab": {
          "base_uri": "https://localhost:8080/"
        },
        "id": "mFmoubpqdw5I",
        "outputId": "30d9beda-00c4-47bb-e93a-1dd8d46b1349"
      },
      "source": [
        "sayHello=\"Haloo apa kabar\"\n",
        "print(sayHello)"
      ],
      "execution_count": 2,
      "outputs": [
        {
          "output_type": "stream",
          "name": "stdout",
          "text": [
            "Haloo apa kabar\n"
          ]
        }
      ]
    },
    {
      "cell_type": "code",
      "metadata": {
        "colab": {
          "base_uri": "https://localhost:8080/"
        },
        "id": "J4PrpLIJdxLK",
        "outputId": "5bcfa1ee-dfd1-48f6-e88b-87d303291412"
      },
      "source": [
        "print(\"Bagaimana kabar anda..?\", sayHello)"
      ],
      "execution_count": 3,
      "outputs": [
        {
          "output_type": "stream",
          "name": "stdout",
          "text": [
            "Bagaimana kabar anda..? Haloo apa kabar\n"
          ]
        }
      ]
    },
    {
      "cell_type": "code",
      "metadata": {
        "colab": {
          "base_uri": "https://localhost:8080/"
        },
        "id": "iJ_SAxIAe3tP",
        "outputId": "877a7887-05b3-4bdf-b7b3-05eb5b971b5f"
      },
      "source": [
        "print(sayHello,\" Bagaimana kabar anda\")"
      ],
      "execution_count": 4,
      "outputs": [
        {
          "output_type": "stream",
          "name": "stdout",
          "text": [
            "Haloo apa kabar  Bagaimana kabar anda\n"
          ]
        }
      ]
    },
    {
      "cell_type": "code",
      "metadata": {
        "colab": {
          "base_uri": "https://localhost:8080/"
        },
        "id": "GLkvOiemfA4g",
        "outputId": "4746f424-d40d-435e-8315-430c87b246e1"
      },
      "source": [
        "print(f\"Bagaimana kabar anda {sayHello}\")"
      ],
      "execution_count": 5,
      "outputs": [
        {
          "output_type": "stream",
          "name": "stdout",
          "text": [
            "Bagaimana kabar anda Haloo apa kabar\n"
          ]
        }
      ]
    },
    {
      "cell_type": "code",
      "metadata": {
        "colab": {
          "base_uri": "https://localhost:8080/"
        },
        "id": "MS7XokO5fNqc",
        "outputId": "802b0aaa-bc37-487f-83e5-7d1f1640dd48"
      },
      "source": [
        "print(f\"{sayHello} Bagaimana kabar anda \")"
      ],
      "execution_count": 6,
      "outputs": [
        {
          "output_type": "stream",
          "name": "stdout",
          "text": [
            "Haloo apa kabar Bagaimana kabar anda \n"
          ]
        }
      ]
    },
    {
      "cell_type": "markdown",
      "metadata": {
        "id": "WAQnMOHxfecj"
      },
      "source": [
        "## Operator Matematika Python\n",
        " * 5 + 2 =7\n",
        " * 5 - 2 =3\n",
        " * 5 * 2 =10\n",
        " * 5 / 2 = 2.5\n",
        " * 5 % 2 = 1\n",
        " * 5 **2 = 25\n",
        "\n",
        "\n"
      ]
    },
    {
      "cell_type": "code",
      "metadata": {
        "colab": {
          "base_uri": "https://localhost:8080/"
        },
        "id": "wr6LX3thfZhP",
        "outputId": "d79f2b4f-661e-4722-a8dd-1843d684efa1"
      },
      "source": [
        "# a=5\n",
        "# b=2\n",
        "a,b=5,2\n",
        "print(f\"{a} + {b} = {a+b}\")\n",
        "print(f\"{a} - {b} = {a-b}\")\n",
        "print(f\"{a} * {b} = {a*b}\")\n",
        "print(f\"{a} / {b} = {a/b}\")\n",
        "print(f\"{a} % {b} = {a%b}\")\n",
        "print(f\"{a} **{b} = {a**b}\")\n"
      ],
      "execution_count": 8,
      "outputs": [
        {
          "output_type": "stream",
          "name": "stdout",
          "text": [
            "5 + 2 = 7\n",
            "5 - 2 = 3\n",
            "5 * 2 = 10\n",
            "5 / 2 = 2.5\n",
            "5 % 2 = 1\n",
            "5 **2 = 25\n"
          ]
        }
      ]
    },
    {
      "cell_type": "markdown",
      "metadata": {
        "id": "CxTcKz6sguWR"
      },
      "source": [
        "## Operator biner/oktaf/hexa\n",
        "* 12 and 6 = 4  ---> 12 & 6 =4\n",
        "* 2^3,2^2,2^1,2^0\n",
        "* 8,4,2,1\n",
        "*12=1100\n",
        "*6 =0110\n",
        "*--------------------AND\n",
        "*   0100 =4"
      ]
    },
    {
      "cell_type": "code",
      "metadata": {
        "colab": {
          "base_uri": "https://localhost:8080/"
        },
        "id": "YY2GSQoSglyd",
        "outputId": "d1628543-5555-42d0-d78e-d6b9a433f1a6"
      },
      "source": [
        "a,b=43,24\n",
        "hasil=a | b\n",
        "print(hasil)"
      ],
      "execution_count": 11,
      "outputs": [
        {
          "output_type": "stream",
          "name": "stdout",
          "text": [
            "59\n"
          ]
        }
      ]
    },
    {
      "cell_type": "code",
      "metadata": {
        "colab": {
          "base_uri": "https://localhost:8080/"
        },
        "id": "yJY2_b58mvBK",
        "outputId": "2c4b1c9e-6cd9-4d83-d44d-997cd145301a"
      },
      "source": [
        "bilangan=-3\n",
        "aku_bilangan=\"Positif\" if bilangan>0 else \"Negatif\"\n",
        "print(f\"Maka aku adalah bilangan {aku_bilangan}\")"
      ],
      "execution_count": 13,
      "outputs": [
        {
          "output_type": "stream",
          "name": "stdout",
          "text": [
            "Maka aku adalah bilangan Negatif\n"
          ]
        }
      ]
    },
    {
      "cell_type": "code",
      "metadata": {
        "colab": {
          "base_uri": "https://localhost:8080/"
        },
        "id": "DIqKw9crnQdS",
        "outputId": "3e3ed502-56c6-4ea8-af55-456060fcb65c"
      },
      "source": [
        "bilangan=0\n",
        "if (bilangan>0):\n",
        "  aku_bilangan=\"Positif\"\n",
        "elif (bilangan<0):\n",
        "  aku_bilangan=\"Negatif\"\n",
        "else:\n",
        "  aku_bilangan=\"Nol\"\n",
        "\n",
        "print(f\"Maka aku adalah bilangan {aku_bilangan}\")"
      ],
      "execution_count": 18,
      "outputs": [
        {
          "output_type": "stream",
          "name": "stdout",
          "text": [
            "Maka aku adalah bilangan Nol\n"
          ]
        }
      ]
    },
    {
      "cell_type": "code",
      "metadata": {
        "colab": {
          "base_uri": "https://localhost:8080/"
        },
        "id": "So9YxXaln1Pm",
        "outputId": "66ad6a6f-9dee-424f-884d-7c32047abcfc"
      },
      "source": [
        "import math\n",
        "\n",
        "a,b,c=1,1,-12\n",
        "d=b**2-(4*a*c)\n",
        "x1=(-b+math.sqrt(d))/(2*a)\n",
        "x2=(-b-math.sqrt(d))/(2*a)\n",
        "\n",
        "print(f\"D={d}\")\n",
        "print(f\"x1={x1}\")\n",
        "print(f\"x2={x2}\")"
      ],
      "execution_count": 20,
      "outputs": [
        {
          "output_type": "stream",
          "name": "stdout",
          "text": [
            "D=49\n",
            "x1=3.0\n",
            "x2=-4.0\n"
          ]
        }
      ]
    },
    {
      "cell_type": "code",
      "metadata": {
        "colab": {
          "base_uri": "https://localhost:8080/"
        },
        "id": "qIAT37LdqPhZ",
        "outputId": "e1ed5629-b0e9-4f77-a7f3-9a9e8a907b6b"
      },
      "source": [
        "a=int(input(\"Masukan nilai a ?\"))\n",
        "b=int(input(\"Masukan nilai b ?\"))\n",
        "c=int(input(\"Masukan nilai c ?\"))\n",
        "\n",
        "d=b**2-(4*a*c)\n",
        "\n",
        "if (d>=0):\n",
        "  x1=(-b+math.sqrt(d))/(2*a)\n",
        "  x2=(-b-math.sqrt(d))/(2*a)\n",
        "else:\n",
        "  x1=\"Akar Imajiner\"\n",
        "  x2=\"Akar Imajiner\"\n",
        "\n",
        "print(f\"D={d}\")\n",
        "print(f\"x1={x1}\")\n",
        "print(f\"x2={x2}\")"
      ],
      "execution_count": 33,
      "outputs": [
        {
          "output_type": "stream",
          "name": "stdout",
          "text": [
            "Masukan nilai a ?1\n",
            "Masukan nilai b ?1\n",
            "Masukan nilai c ?-12\n",
            "D=49\n",
            "x1=3.0\n",
            "x2=-4.0\n"
          ]
        }
      ]
    }
  ]
}