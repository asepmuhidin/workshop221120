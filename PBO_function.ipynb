{
  "nbformat": 4,
  "nbformat_minor": 0,
  "metadata": {
    "colab": {
      "name": "PBO_function.ipynb",
      "provenance": [],
      "authorship_tag": "ABX9TyNyC/FcSmtx/4SZiW5yS0VW",
      "include_colab_link": true
    },
    "kernelspec": {
      "name": "python3",
      "display_name": "Python 3"
    },
    "language_info": {
      "name": "python"
    }
  },
  "cells": [
    {
      "cell_type": "markdown",
      "metadata": {
        "id": "view-in-github",
        "colab_type": "text"
      },
      "source": [
        "<a href=\"https://colab.research.google.com/github/asepmuhidin/workshop221120/blob/main/PBO_function.ipynb\" target=\"_parent\"><img src=\"https://colab.research.google.com/assets/colab-badge.svg\" alt=\"Open In Colab\"/></a>"
      ]
    },
    {
      "cell_type": "markdown",
      "metadata": {
        "id": "SQY0xq_K7-0U"
      },
      "source": [
        "## Membuat Fungsi di python\n",
        "### def funct_name:\n",
        "###      stat_func"
      ]
    },
    {
      "cell_type": "code",
      "metadata": {
        "id": "KSCruWnV7s1z"
      },
      "source": [
        "def sayHello():\n",
        "  print(\"Hello\")"
      ],
      "execution_count": 1,
      "outputs": []
    },
    {
      "cell_type": "code",
      "metadata": {
        "colab": {
          "base_uri": "https://localhost:8080/"
        },
        "id": "WsGxjA2y8P3n",
        "outputId": "5215ae14-62a2-42c7-ab8f-15e63ed0a8dd"
      },
      "source": [
        "sayHello()"
      ],
      "execution_count": 2,
      "outputs": [
        {
          "output_type": "stream",
          "name": "stdout",
          "text": [
            "Hello\n"
          ]
        }
      ]
    },
    {
      "cell_type": "code",
      "metadata": {
        "id": "4Cs0M1jN8b33"
      },
      "source": [
        "def sayHello1():\n",
        "  return \"Hello juga\"\n"
      ],
      "execution_count": 3,
      "outputs": []
    },
    {
      "cell_type": "code",
      "metadata": {
        "colab": {
          "base_uri": "https://localhost:8080/"
        },
        "id": "jPAC-ET48jqh",
        "outputId": "f111798a-97db-4c57-8af5-10cfb547b78e"
      },
      "source": [
        "print(sayHello1())"
      ],
      "execution_count": 5,
      "outputs": [
        {
          "output_type": "stream",
          "name": "stdout",
          "text": [
            "Hello juga\n"
          ]
        }
      ]
    },
    {
      "cell_type": "code",
      "metadata": {
        "id": "j96--0xC8xD6"
      },
      "source": [
        "def sayMessage(pesan):\n",
        "  print(pesan)"
      ],
      "execution_count": 9,
      "outputs": []
    },
    {
      "cell_type": "code",
      "metadata": {
        "colab": {
          "base_uri": "https://localhost:8080/"
        },
        "id": "L_-ExNBE84VS",
        "outputId": "cf3d1a8a-17d2-4f59-d8c6-f880735f2551"
      },
      "source": [
        "sayMessage(\"Halo \")"
      ],
      "execution_count": 10,
      "outputs": [
        {
          "output_type": "stream",
          "name": "stdout",
          "text": [
            "Halo \n"
          ]
        }
      ]
    },
    {
      "cell_type": "code",
      "metadata": {
        "id": "8RlavNbt9HJJ"
      },
      "source": [
        "def sayMessage1(pesan,ulang):\n",
        "  return pesan*ulang"
      ],
      "execution_count": 16,
      "outputs": []
    },
    {
      "cell_type": "code",
      "metadata": {
        "colab": {
          "base_uri": "https://localhost:8080/"
        },
        "id": "9lArX1739NlM",
        "outputId": "f7de9e34-8d1b-437a-dade-0785be630bc1"
      },
      "source": [
        "print(sayMessage1(\"Hello\",10))"
      ],
      "execution_count": 17,
      "outputs": [
        {
          "output_type": "stream",
          "name": "stdout",
          "text": [
            "HelloHelloHelloHelloHelloHelloHelloHelloHelloHello\n"
          ]
        }
      ]
    },
    {
      "cell_type": "code",
      "metadata": {
        "colab": {
          "base_uri": "https://localhost:8080/"
        },
        "id": "snW5E57g9oFx",
        "outputId": "529b9417-c5bf-42ea-9a26-7423285de2a3"
      },
      "source": [
        "jamLemburAktual=6\n",
        "jamLembur=2+((6-1)*1.5)\n",
        "gapok=4980000\n",
        "uangLembur=jamLembur*(gapok/173)\n",
        "uangLembur"
      ],
      "execution_count": 22,
      "outputs": [
        {
          "output_type": "execute_result",
          "data": {
            "text/plain": [
              "273468.20809248555"
            ]
          },
          "metadata": {},
          "execution_count": 22
        }
      ]
    },
    {
      "cell_type": "code",
      "metadata": {
        "id": "-zBnIAxr-qtj"
      },
      "source": [
        "def uangLembur(jamAktualLembur,gapok):\n",
        "  if jamAktualLembur>0:\n",
        "    jamLembur=2+((jamAktualLembur-1)*1.5)\n",
        "    return jamLembur*(gapok/173)\n"
      ],
      "execution_count": 25,
      "outputs": []
    },
    {
      "cell_type": "code",
      "metadata": {
        "colab": {
          "base_uri": "https://localhost:8080/"
        },
        "id": "wbVcIV3l_UHG",
        "outputId": "6b6643e4-25b1-419e-d2f1-59a0e4b4a757"
      },
      "source": [
        "lembur=6\n",
        "uang_lembur=uangLembur(lembur,4980000)\n",
        "print(f\"Uang lembur anda selama {lembur} jam adalah {uang_lembur:9.2f}\")"
      ],
      "execution_count": 33,
      "outputs": [
        {
          "output_type": "stream",
          "name": "stdout",
          "text": [
            "Uang lembur anda selama 6 jam adalah 273468.21\n"
          ]
        }
      ]
    },
    {
      "cell_type": "code",
      "metadata": {
        "colab": {
          "base_uri": "https://localhost:8080/"
        },
        "id": "p0e1UFwfBJdK",
        "outputId": "d8e5845d-8ac6-4527-c34e-d89c6df6fe49"
      },
      "source": [
        "def luasPP(p,l):\n",
        "  return p*l\n",
        "\n",
        "print(f\"Luas Persegi Panjang dengan panjang=5 dan lebar =9 adalah {luasPP(5,9)}\")"
      ],
      "execution_count": 34,
      "outputs": [
        {
          "output_type": "stream",
          "name": "stdout",
          "text": [
            "Luas Persegi Panjang dengan panjang=5 dan lebar =9 adalah 45\n"
          ]
        }
      ]
    },
    {
      "cell_type": "code",
      "metadata": {
        "id": "OB-sj5jRBttH"
      },
      "source": [
        "import math\n",
        "def det(a,b,c):\n",
        "  return b**2-(4*a*c)\n",
        "\n",
        "def x(a,b,d):\n",
        "  return (-b+math.sqrt(d))/(2*a),(-b-math.sqrt(d))/(2*a)"
      ],
      "execution_count": 35,
      "outputs": []
    },
    {
      "cell_type": "code",
      "metadata": {
        "colab": {
          "base_uri": "https://localhost:8080/"
        },
        "id": "6QWXtWARDG4s",
        "outputId": "efad498f-9560-4328-84ec-fb4c15140098"
      },
      "source": [
        "a,b,c=1,2,-8\n",
        "x1,x2=x(a,b,det(a,b,c))\n",
        "print(f\"Akar x1={x1}, dan x2={x2}\")"
      ],
      "execution_count": 36,
      "outputs": [
        {
          "output_type": "stream",
          "name": "stdout",
          "text": [
            "Akar x1=2.0, dan x2=-4.0\n"
          ]
        }
      ]
    }
  ]
}