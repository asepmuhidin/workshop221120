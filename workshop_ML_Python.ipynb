{
  "nbformat": 4,
  "nbformat_minor": 0,
  "metadata": {
    "colab": {
      "name": "workshop-ML-Python.ipynb",
      "provenance": [],
      "toc_visible": true,
      "authorship_tag": "ABX9TyO8N4xxoGaXcw+tUaxSMeRw",
      "include_colab_link": true
    },
    "kernelspec": {
      "name": "python3",
      "display_name": "Python 3"
    }
  },
  "cells": [
    {
      "cell_type": "markdown",
      "metadata": {
        "id": "view-in-github",
        "colab_type": "text"
      },
      "source": [
        "<a href=\"https://colab.research.google.com/github/asepmuhidin/workshop221120/blob/main/workshop_ML_Python.ipynb\" target=\"_parent\"><img src=\"https://colab.research.google.com/assets/colab-badge.svg\" alt=\"Open In Colab\"/></a>"
      ]
    },
    {
      "cell_type": "markdown",
      "metadata": {
        "id": "yLbFNA1lQQyH"
      },
      "source": [
        "# Workshop Machine Learning Menggunakan Python\n",
        "## Asep Muhidin, Universitas Pelita Bangsa,22 November 2020"
      ]
    },
    {
      "cell_type": "markdown",
      "metadata": {
        "id": "uxFJLPb7EPQz"
      },
      "source": [
        "# I. Perintah Dasar Python"
      ]
    },
    {
      "cell_type": "code",
      "metadata": {
        "id": "aRxKYRodD1wG"
      },
      "source": [
        "#Perintah Output\n",
        "print(\"Hello\")"
      ],
      "execution_count": null,
      "outputs": []
    },
    {
      "cell_type": "code",
      "metadata": {
        "id": "SHxPp-97D14w"
      },
      "source": [
        "#Perintah output dengan format\n",
        "nama=\"Abdul\"\n",
        "usia=40\n",
        "print(\"Hallo {} , usia anda {}\". format(nama,usia))"
      ],
      "execution_count": null,
      "outputs": []
    },
    {
      "cell_type": "code",
      "metadata": {
        "id": "o88s-f9bD18N"
      },
      "source": [
        "#Perintah output format angka\n",
        "nama=\"Maryam\"\n",
        "tinggi=187.98765\n",
        "print(\"Hello {}, tinggia anda {:.2f}cm\".format(nama,tinggi))"
      ],
      "execution_count": null,
      "outputs": []
    },
    {
      "cell_type": "code",
      "metadata": {
        "id": "ILySlErlD1-8"
      },
      "source": [
        "#Perintah input\n",
        "nama=input(\"Nama anda ?\")\n",
        "usia=int(input(\"Usia anda tahun kemarin ?\"))\n",
        "\n",
        "print(\"Hallo {} , usia anda sekarang {}\". format(nama,usia+1))"
      ],
      "execution_count": null,
      "outputs": []
    },
    {
      "cell_type": "code",
      "metadata": {
        "id": "ETA8Oac_dWll"
      },
      "source": [
        "#Pengisian beberapa variabel sekaligus\n",
        "a,b,c=1,2,3\n",
        "print(a,b,c)"
      ],
      "execution_count": null,
      "outputs": []
    },
    {
      "cell_type": "code",
      "metadata": {
        "id": "YY6nfwMlD2Bp"
      },
      "source": [
        "#Perintah kondisi\n",
        "nama=input(\"Nama anda ?\")\n",
        "usia=int(input(\"Usia anda ?\"))\n",
        "\n",
        "if usia >=30 :\n",
        "  ket=\"sudah tua\"\n",
        "elif usia >=20:\n",
        "  ket=\"remaja\"\n",
        "else:\n",
        "  ket=\"masih anak-anak\"\n",
        "\n",
        "print(\"Hallo {} , usia anda {}, anda {}\". format(nama,usia,ket))\n"
      ],
      "execution_count": null,
      "outputs": []
    },
    {
      "cell_type": "code",
      "metadata": {
        "id": "_9ZGcpwRD2D1"
      },
      "source": [
        "#Perintah perulangan\n",
        "for i in range(10):\n",
        "  print(i, end=',')"
      ],
      "execution_count": null,
      "outputs": []
    },
    {
      "cell_type": "code",
      "metadata": {
        "id": "bSZ-twrwD2F3"
      },
      "source": [
        "#Perintah perulangan dengan awal,akhir dan jarak tertentu\n",
        "for i in range(1,30,2) :\n",
        "  print(i,end=',')"
      ],
      "execution_count": null,
      "outputs": []
    },
    {
      "cell_type": "markdown",
      "metadata": {
        "id": "7-r_-BGtIgum"
      },
      "source": [
        "# II. List, Tuple dan Dictionary"
      ]
    },
    {
      "cell_type": "markdown",
      "metadata": {
        "id": "uzL2VInbNAm0"
      },
      "source": [
        "## List"
      ]
    },
    {
      "cell_type": "code",
      "metadata": {
        "id": "7lAX53a2D2Ib"
      },
      "source": [
        "#Membuat dan mengakses List\n",
        "x=[2,3,'dedi','cikarang',3400]\n",
        "print('{} {}'. format(x[0],x[2]))\n"
      ],
      "execution_count": null,
      "outputs": []
    },
    {
      "cell_type": "code",
      "metadata": {
        "id": "RHnlxnhID2Kv"
      },
      "source": [
        "#Menampilkan semua elemen list\n",
        "items=['Pensil','Buku','Penggaris','Spidol','Penghapus']\n",
        "for item in items:\n",
        "  print(item)"
      ],
      "execution_count": null,
      "outputs": []
    },
    {
      "cell_type": "code",
      "metadata": {
        "id": "kuFKH6S7D2PC"
      },
      "source": [
        "#Menampilkan semua elemen list dengan index nya\n",
        "items=['Pensil','Buku','Penggaris','Spidol','Penghapus']\n",
        "for idx,item in enumerate(items):\n",
        "  print('{}.{}'. format(idx,item))"
      ],
      "execution_count": null,
      "outputs": []
    },
    {
      "cell_type": "code",
      "metadata": {
        "id": "-dTY1BKYD2SC"
      },
      "source": [
        "#Menambah, Merubah dan Menghapus element list\n",
        "items[0]='Pisang' #Mengganti Pensil dengan Pisang\n",
        "items.append('Durian') #Menambahkan item durian ke list items\n",
        "items.pop(2)\n",
        "\n",
        "print(items)\n"
      ],
      "execution_count": null,
      "outputs": []
    },
    {
      "cell_type": "code",
      "metadata": {
        "id": "vj00kZ5nLfvM"
      },
      "source": [
        "#Mengiris element list\n",
        "ATK=items[1:4]\n",
        "print(ATK)"
      ],
      "execution_count": null,
      "outputs": []
    },
    {
      "cell_type": "markdown",
      "metadata": {
        "id": "wWvk2ulBQmKS"
      },
      "source": [
        "## Tuple"
      ]
    },
    {
      "cell_type": "markdown",
      "metadata": {
        "id": "RmbAnVjQMNwb"
      },
      "source": [
        "### *Tipe data tuple pada dasarnya sama dengan List, hanya saja tuple sifatnya immutable, artinya elemen tuple tidak bisa dirubah*. Untuk membuat tuple sama dengan list, tetapi tanda [ diganti dengan ( dan ] diganti dengan ) "
      ]
    },
    {
      "cell_type": "code",
      "metadata": {
        "id": "iB4TKrc3QRPp"
      },
      "source": [
        "sex=('Laki-laki','Perempuan')\n",
        "print(sex)"
      ],
      "execution_count": null,
      "outputs": []
    },
    {
      "cell_type": "markdown",
      "metadata": {
        "id": "tQK819JzNQBz"
      },
      "source": [
        "## Dictionary"
      ]
    },
    {
      "cell_type": "code",
      "metadata": {
        "id": "dxF13f6gKP4L"
      },
      "source": [
        "#Membuat dan mengakses Dictionary\n",
        "kamus={'kucing':'cat','tikus':'mouse','kelinci':'rabbit','ayam':'chicken'}\n",
        "print(\"Bahasa inggrisnya 'kucing' adalah '{}'\". format(kamus['kucing']))"
      ],
      "execution_count": null,
      "outputs": []
    },
    {
      "cell_type": "code",
      "metadata": {
        "id": "RR-zOhSvKP7e"
      },
      "source": [
        "#Menampilkan semua elemen dan index dict\n",
        "for id, en in kamus.items():\n",
        "  print('{} adalah {}'.format(id,en))"
      ],
      "execution_count": null,
      "outputs": []
    },
    {
      "cell_type": "code",
      "metadata": {
        "id": "22T1shFNKP_5"
      },
      "source": [
        "#Membuat data tabel dengan dict\n",
        "data_nilai={\n",
        "    'nama':['Dede','Dedi','Susi','Maryam','Idam','Santi'],\n",
        "    'nilai':[78,80,67,90,55,70],\n",
        "}\n",
        "r=zip(data_nilai['nama'],data_nilai['nilai'])\n",
        "r=list(r)\n",
        "r"
      ],
      "execution_count": null,
      "outputs": []
    },
    {
      "cell_type": "code",
      "metadata": {
        "id": "o5mghFq5KQCt"
      },
      "source": [
        "print('{:<10}{:<10}'. format('NAMA','NILAI'))\n",
        "for nama,nilai in r:\n",
        "  print('{:<10}{:<10}'.format(nama,nilai))"
      ],
      "execution_count": null,
      "outputs": []
    },
    {
      "cell_type": "code",
      "metadata": {
        "id": "JZTxEPxTKQFE"
      },
      "source": [
        "#Menambah, Merubah dan Menghapus element dict\n",
        "data_nilai['nama'][0]='Billy' #Mengganti Dede dengan Billy\n",
        "data_nilai['nama'].append('Sinta') #Menambah elemen index nama dengan nilai Sinta\n",
        "data_nilai['nilai'].append(80)     #Menambah elemen index nilai dengan nilai 80\n",
        "print(data_nilai)"
      ],
      "execution_count": null,
      "outputs": []
    },
    {
      "cell_type": "markdown",
      "metadata": {
        "id": "CW2Rwk8XosSP"
      },
      "source": [
        "# III. Numpy (Numeric Python)"
      ]
    },
    {
      "cell_type": "code",
      "metadata": {
        "id": "wWilCpasKP-p"
      },
      "source": [
        "##contoh penjumlahan dengan list dan array numpy\n",
        "a=[1,1,1]\n",
        "b=[2,2,2]\n",
        "c=a+b\n",
        "print(c) "
      ],
      "execution_count": null,
      "outputs": []
    },
    {
      "cell_type": "code",
      "metadata": {
        "id": "sShjbrqwD2VG",
        "colab": {
          "base_uri": "https://localhost:8080/"
        },
        "outputId": "482c5448-8127-4687-bd57-b65b069e6324"
      },
      "source": [
        "#Membuat numpy array\n",
        "'''\n",
        "  np.array(list)\n",
        "  contoh :np.array([1,2,3,]) \n",
        "'''  \n",
        "import numpy as np\n",
        "x=np.array(a)\n",
        "y=np.array(b)\n",
        "z=x+y\n",
        "print(z)"
      ],
      "execution_count": null,
      "outputs": [
        {
          "output_type": "stream",
          "text": [
            "[3 3 3]\n"
          ],
          "name": "stdout"
        }
      ]
    },
    {
      "cell_type": "code",
      "metadata": {
        "id": "by-6X0ShD2NT"
      },
      "source": [
        "#Membuat numpy arra n dimensi\n",
        "mat33=np.array([[1,2,3],\n",
        "               [4,5,6],\n",
        "               [7,8,9]])\n",
        "mat33"
      ],
      "execution_count": null,
      "outputs": []
    },
    {
      "cell_type": "code",
      "metadata": {
        "id": "MrWhTIW8wY7R"
      },
      "source": [
        "#Generate bilangan \n",
        "x=np.arange(1,20,1) # arange(start,stop,step)\n",
        "y=np.linspace(1,10,5) # linspace(start,stop,jumlah_data)    \n",
        "y"
      ],
      "execution_count": null,
      "outputs": []
    },
    {
      "cell_type": "markdown",
      "metadata": {
        "id": "UikxWDwVxdDb"
      },
      "source": [
        "## Jenis bilangan random pada numpy \n",
        "\n",
        " "
      ]
    },
    {
      "cell_type": "code",
      "metadata": {
        "id": "Hbg0dXftynej"
      },
      "source": [
        "#buat state random, digunakan untuk nilai random nya sama\n",
        "rnd=np.random.RandomState(0)"
      ],
      "execution_count": null,
      "outputs": []
    },
    {
      "cell_type": "code",
      "metadata": {
        "id": "ofVyY8_1uzTY",
        "colab": {
          "base_uri": "https://localhost:8080/"
        },
        "outputId": "7283d339-705d-47f8-ba0f-e58e5875bb01"
      },
      "source": [
        "#Bilangan random integer\n",
        "rnd=np.random.RandomState(0)\n",
        "x=rnd.randint(1,10,20) #random bilangan 1 sd 10 sebanyak 20 angka\n",
        "x"
      ],
      "execution_count": null,
      "outputs": [
        {
          "output_type": "execute_result",
          "data": {
            "text/plain": [
              "array([6, 1, 4, 4, 8, 4, 6, 3, 5, 8, 7, 9, 9, 2, 7, 8, 8, 9, 2, 6])"
            ]
          },
          "metadata": {
            "tags": []
          },
          "execution_count": 11
        }
      ]
    },
    {
      "cell_type": "code",
      "metadata": {
        "id": "kGwMKbP7xbti"
      },
      "source": [
        "#Bilangan random distribusi uniform (0 s/d 1)==> rand(d0,d1,..dn)\n",
        "x=rnd.rand(10) #random bilangan distribusi uniform  sebanyak 10 angka\n",
        "y=rnd.rand(3,2) ##random bilangan distribusi uniform sebanyak 3 baris 2 kolom (6 angka)\n",
        "y"
      ],
      "execution_count": null,
      "outputs": []
    },
    {
      "cell_type": "code",
      "metadata": {
        "id": "0hQFCEHxu4Vr"
      },
      "source": [
        "#Bilangan random distribusi normal(gaussian) (minus tak hingga s/d plus tak hingga)\n",
        "x=rnd.randn(10) #random bilangan random distribusi normal sebanyak 10 angka\n",
        "y=rnd.randn(3,2) ##random bilangan random distribusi normal sebanyak 3 baris 2 kolom (6 angka)\n",
        "y"
      ],
      "execution_count": null,
      "outputs": []
    },
    {
      "cell_type": "markdown",
      "metadata": {
        "id": "p_wBMYA74Gir"
      },
      "source": [
        "# IV. Pandas (Python for Data Analysis) "
      ]
    },
    {
      "cell_type": "markdown",
      "metadata": {
        "id": "4aORsczbZaPg"
      },
      "source": [
        "### DataSeries dan DataFrame"
      ]
    },
    {
      "cell_type": "code",
      "metadata": {
        "id": "sSXgwlZd4FBa"
      },
      "source": [
        "#import library pandas\n",
        "import pandas as pd\n",
        "\n",
        "dsn=np.array([1,2,3])\n",
        "dsp=pd.Series([1,2,3],index=['satu','dua','tiga'])"
      ],
      "execution_count": null,
      "outputs": []
    },
    {
      "cell_type": "code",
      "metadata": {
        "id": "d4nEOZ5Zu4eL"
      },
      "source": [
        "#DataFrame \n",
        "'''\n",
        "pd.DataFrame(data,index,column)\n",
        "'''\n",
        "data=[1,2,3]\n",
        "index=['satu','dua','tiga']\n",
        "column=['angka']\n",
        "\n",
        "pd.DataFrame(data,index=index,columns=column)"
      ],
      "execution_count": null,
      "outputs": []
    },
    {
      "cell_type": "code",
      "metadata": {
        "id": "csGVWwqnbkbE"
      },
      "source": [
        "#DataFrame dengan type data dict\n",
        "data={\n",
        "    'lama_belajar':np.sort(rnd.rand(100)*4+1),\n",
        "    'nilai':np.sort(rnd.rand(100)*60+40)}\n",
        "df=pd.DataFrame(data)\n",
        "df"
      ],
      "execution_count": null,
      "outputs": []
    },
    {
      "cell_type": "code",
      "metadata": {
        "id": "8DCDBAuLeBQn"
      },
      "source": [
        "#Menambah kolom baru\n",
        "df['xy']=df['lama_belajar']*df['nilai'] #bisa juga df.lama_belajar*df.nilai\n",
        "df['x2']=df['lama_belajar']**2      #bisa juga df.lama_belajar**2\n",
        "df"
      ],
      "execution_count": null,
      "outputs": []
    },
    {
      "cell_type": "code",
      "metadata": {
        "id": "zk8D7sgbcPmi"
      },
      "source": [
        "#Akses Data kolom\n",
        "x=df['lama_belajar'] # atau df.lama_belajar\n",
        "x"
      ],
      "execution_count": null,
      "outputs": []
    },
    {
      "cell_type": "code",
      "metadata": {
        "id": "trz-53Udc0sf"
      },
      "source": [
        "#Akses beberapa Data kolom\n",
        "cols=df[['lama_belajar','nilai']]\n",
        "cols"
      ],
      "execution_count": null,
      "outputs": []
    },
    {
      "cell_type": "code",
      "metadata": {
        "id": "dabJhZ6MlGux"
      },
      "source": [
        "#DataFrame describe,info,shape,head,tail\n",
        "df.describe()"
      ],
      "execution_count": null,
      "outputs": []
    },
    {
      "cell_type": "code",
      "metadata": {
        "id": "nvwbrMP9nqXT"
      },
      "source": [
        "df.info()"
      ],
      "execution_count": null,
      "outputs": []
    },
    {
      "cell_type": "markdown",
      "metadata": {
        "id": "0uPQGd9OoMJv"
      },
      "source": [
        "# V. Matplotlib "
      ]
    },
    {
      "cell_type": "code",
      "metadata": {
        "id": "2z_4__5PpbXp"
      },
      "source": [
        "import matplotlib.pyplot as plt\n",
        "\n",
        "#Membuat plot garis\n",
        "plt.title('Grafik xy')\n",
        "plt.xlabel('lama_belajar')\n",
        "plt.ylabel('nilai')\n",
        "plt.plot(df['lama_belajar'],df['nilai'])"
      ],
      "execution_count": null,
      "outputs": []
    },
    {
      "cell_type": "code",
      "metadata": {
        "id": "hvcfOkWTs1Px"
      },
      "source": [
        "#Membuat scatter\n",
        "plt.figure(figsize=(10,6))\n",
        "plt.title('Grafik Data')\n",
        "plt.xlabel('lama_belajar')\n",
        "plt.ylabel('nilai')\n",
        "plt.scatter(df['lama_belajar'],df['nilai'], c='green', label='Lama Belajar', marker='>')\n",
        "plt.legend();"
      ],
      "execution_count": null,
      "outputs": []
    },
    {
      "cell_type": "code",
      "metadata": {
        "id": "m0TWSPHJMMMR"
      },
      "source": [
        "##Subplot (ada pada bagian tahapan pemodelan machine learning)"
      ],
      "execution_count": null,
      "outputs": []
    },
    {
      "cell_type": "markdown",
      "metadata": {
        "id": "TWlWD5hfRLln"
      },
      "source": [
        "# VI. Penyelesaian Simple Linear Regression "
      ]
    },
    {
      "cell_type": "markdown",
      "metadata": {
        "id": "XZNoXIF2RbGz"
      },
      "source": [
        "## SLR dengan perhitungan manual\n",
        "![slr.PNG](data:image/png;base64,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)"
      ]
    },
    {
      "cell_type": "code",
      "metadata": {
        "id": "mWUgUw5-SGQF"
      },
      "source": [
        "#Masih menggunakan data lama belajar dan nilai\n",
        "df.head(2)"
      ],
      "execution_count": null,
      "outputs": []
    },
    {
      "cell_type": "code",
      "metadata": {
        "id": "KshjbrGoSruB"
      },
      "source": [
        "#hitung gradient (m)\n",
        "n=len(df)\n",
        "m=((n*df.xy.sum())-(df.lama_belajar.sum()*df.nilai.sum()))/((n*df.x2.sum())-(df.lama_belajar.sum()**2))\n",
        "m"
      ],
      "execution_count": null,
      "outputs": []
    },
    {
      "cell_type": "code",
      "metadata": {
        "id": "l7hqapb_T4GM"
      },
      "source": [
        "#hitung konstanta (c)\n",
        "c=((df.nilai.sum()*df.x2.sum())-(df.lama_belajar.sum()*df.xy.sum()))/((n*df.x2.sum())-(df.lama_belajar.sum()**2))\n",
        "c"
      ],
      "execution_count": null,
      "outputs": []
    },
    {
      "cell_type": "code",
      "metadata": {
        "id": "FKsA2K_1dA8_"
      },
      "source": [
        "#Test dengan data baru\n",
        "nama=input(\"Nama mahasiswa ?\")\n",
        "jam=int(input(\"Berapa lama belajar anda ?\"))\n",
        "\n",
        "nilainya=m*jam+c\n",
        "print(\"{}, dengan lama belajar anda {}, maka nilai yang akan didapat adalah {:.2f}\". format(nama,jam,nilainya))"
      ],
      "execution_count": null,
      "outputs": []
    },
    {
      "cell_type": "code",
      "metadata": {
        "id": "GVz_F2i1VDkD"
      },
      "source": [
        "#Didapatkan persamaan linearnya adalah\n",
        "# y=14.30x + 30.10\n",
        "#Visualisasikan dalam bentuk grafik data training\n",
        "\n",
        "plt.figure(figsize=(10,8))\n",
        "plt.title('Grafik Data dan Garis model')\n",
        "plt.xlabel('lama_belajar')\n",
        "plt.ylabel('nilai')\n",
        "plt.scatter(df['lama_belajar'],df['nilai'], c='green', label='Nilai', marker='>')\n",
        "plt.plot(df['lama_belajar'],m*df['lama_belajar']+c, c='red', label='Model')\n",
        "plt.grid()\n",
        "plt.legend();"
      ],
      "execution_count": null,
      "outputs": []
    },
    {
      "cell_type": "markdown",
      "metadata": {
        "id": "A8jfPgm_WbfA"
      },
      "source": [
        "##SLR dengan perhitungan Library scikit-learn"
      ]
    },
    {
      "cell_type": "code",
      "metadata": {
        "id": "1fIpZWs6WWXV"
      },
      "source": [
        "from sklearn.linear_model import LinearRegression\n",
        "slr=LinearRegression()\n",
        "slr.fit(df[['lama_belajar']], df['nilai'])"
      ],
      "execution_count": null,
      "outputs": []
    },
    {
      "cell_type": "code",
      "metadata": {
        "id": "KDLBWmCBW7MH"
      },
      "source": [
        "#Cek nilai m(coefisien)  dan c (intercept)\n",
        "m,c=slr.coef_ , slr.intercept_ \n",
        "m,c "
      ],
      "execution_count": null,
      "outputs": []
    },
    {
      "cell_type": "code",
      "metadata": {
        "id": "rtz0nHNJeik8"
      },
      "source": [
        "#Test dengan data baru\n",
        "nama=input(\"Nama mahasiswa ?\")\n",
        "jam=int(input(\"Berapa lama belajar anda ?\"))\n",
        "\n",
        "nilainya=slr.predict(np.array([[jam]]))\n",
        "print(\"{}, dengan lama belajar anda {}, maka nilai yang akan didapat adalah {:.2f}\". format(nama,jam,nilainya[0]))"
      ],
      "execution_count": null,
      "outputs": []
    },
    {
      "cell_type": "markdown",
      "metadata": {
        "id": "BYN9yHgZXrKP"
      },
      "source": [
        "## Contoh kasus pemodelan untuk dataset Headbrain https://www.kaggle.com/jemishdonda/headbrain\n"
      ]
    },
    {
      "cell_type": "markdown",
      "metadata": {
        "id": "BA1_89Dsl382"
      },
      "source": [
        "## Tahapan Pemodelan Machine Learning"
      ]
    },
    {
      "cell_type": "markdown",
      "metadata": {
        "id": "9ZQ8SAFbmDMB"
      },
      "source": [
        "### EDA ( Exploratory Data Analysis )"
      ]
    },
    {
      "cell_type": "code",
      "metadata": {
        "id": "-8p7y4IdognA"
      },
      "source": [
        "#import library yang dibutuhkan\n",
        "import numpy as np\n",
        "import pandas as pd\n",
        "import matplotlib.pyplot as plt\n",
        "import seaborn as sns"
      ],
      "execution_count": 3,
      "outputs": []
    },
    {
      "cell_type": "code",
      "metadata": {
        "id": "fmyZ0KCbXkQk"
      },
      "source": [
        "#Load data\n",
        "data=pd.read_csv('headbrain.csv')\n",
        "data.head(3)"
      ],
      "execution_count": null,
      "outputs": []
    },
    {
      "cell_type": "code",
      "metadata": {
        "id": "75pkzRwsnjdx"
      },
      "source": [
        "#Struktur Data\n",
        "data.info()"
      ],
      "execution_count": null,
      "outputs": []
    },
    {
      "cell_type": "code",
      "metadata": {
        "id": "QWKU-EbNnEgh"
      },
      "source": [
        "#Statistik deskriptif\n",
        "data.describe()"
      ],
      "execution_count": null,
      "outputs": []
    },
    {
      "cell_type": "code",
      "metadata": {
        "id": "UGfdV3DNntOJ"
      },
      "source": [
        "#Dimensi Data\n",
        "data.shape"
      ],
      "execution_count": null,
      "outputs": []
    },
    {
      "cell_type": "code",
      "metadata": {
        "id": "H7oZ0ZQYoSBw"
      },
      "source": [
        "#Distribusi dan frekwensi data\n",
        "sns.countplot(x=data['Age Range'], data=data);"
      ],
      "execution_count": null,
      "outputs": []
    },
    {
      "cell_type": "code",
      "metadata": {
        "id": "FrGkgvFZr1OM"
      },
      "source": [
        "sns.countplot(x=data['Gender'],data=data)"
      ],
      "execution_count": null,
      "outputs": []
    },
    {
      "cell_type": "code",
      "metadata": {
        "id": "45vE7St1sShT"
      },
      "source": [
        "##Jika tidak normal, maka harus dilakukan scalling \n",
        "sns.histplot(data=data,x=data['Head Size(cm^3)'],kde=True)"
      ],
      "execution_count": null,
      "outputs": []
    },
    {
      "cell_type": "code",
      "metadata": {
        "id": "Wz6-l4uhvBx2"
      },
      "source": [
        "sns.histplot(data=data,x=data['Brain Weight(grams)'],kde=True)"
      ],
      "execution_count": null,
      "outputs": []
    },
    {
      "cell_type": "code",
      "metadata": {
        "id": "YRv_KqDw3qem"
      },
      "source": [
        "#Dapatkan nilai korelasi antar variable\n",
        "data.corr()"
      ],
      "execution_count": null,
      "outputs": []
    },
    {
      "cell_type": "code",
      "metadata": {
        "id": "7nM7YLksbmRS"
      },
      "source": [
        "#Visualisasi nilai korelasi antar variable\n",
        "sns.heatmap(data=data.corr())"
      ],
      "execution_count": null,
      "outputs": []
    },
    {
      "cell_type": "code",
      "metadata": {
        "id": "ErnSqNF5vgeF"
      },
      "source": [
        "#Dapatkan semua informasi\n",
        "sns.pairplot(data=data)"
      ],
      "execution_count": null,
      "outputs": []
    },
    {
      "cell_type": "markdown",
      "metadata": {
        "id": "RlO9W_rKwW6v"
      },
      "source": [
        "Dari visualisasi diatas, bisa dilihat yang paling linear adalah data Head Size(cm^3) dengan Brain Weight(grams)"
      ]
    },
    {
      "cell_type": "code",
      "metadata": {
        "id": "YUZBVppgzHu_"
      },
      "source": [
        "#Periksa juga data outlier\n",
        "sns.boxplot(data=data,x=data['Head Size(cm^3)'])"
      ],
      "execution_count": null,
      "outputs": []
    },
    {
      "cell_type": "markdown",
      "metadata": {
        "id": "hhbGa18L52h6"
      },
      "source": [
        "## Keterangan Boxplot :\n",
        "![box-plot-detail.png](data:image/png;base64,iVBORw0KGgoAAAANSUhEUgAAAfkAAALZCAMAAACDLKh9AAAAYFBMVEX////Ly8u6ubnx7+/Ln5za2db3+PjeuJm6x6EAAADo6OaFhYPI8P5zbnat6/+eoKDj+P/g399BQD/EVFFqrs7eiGqzjYLx1NGbq32nyN/G2bJnoV2QyqiWhK3b6PTP5dpqm3mPAABByklEQVR42uxdiZKiMBDNAbhJKkUllmjtlPv/n7k5INxyBUehW3tACOj47Lx0k24QAvlK+VusEgHf3LcLLpI18gPf3Pfb/BrgiwK+uZPaPPT2J7V5QB54HgR4HgR4HgR4HuTcPJ9ccUuLq1qkScFHlEZTy19TeiEzFKMsktIBzRRfrHRQKS6KwvL2AjXPW7EN+XSh3keUoms0zWYomqM0ihZIRVJ8TYYUX69XsUIXdSxZWzO0TK3wNOurypCKpSl6qakyv2AyrcTYZgTNErMcUV4kizS9kVqvN1qu/xXX26NYrHIA3fFH98VC7EcfGULLf0fZ0E+xfqPhJQoffeqz2lbbNXttB2slu9xuN17x/GWNdEd4PAd5i+At4PObE+yRz2MgnxEtBTze8NDZeujx7Xa5343ZX7JYNp+hXIKb9A4hBvm10FvI7fJuljSSzWcZAeQ/HHlL8XcDvwGdOrKPY/MUbP5N4RfNV0L/1w/tbjdj7vRirD+GzWeA/PtsntOVNn93x3HuFvc4Ng/Ivxf5LE73ATZ/KuRvtwzF8+ezjAPy70JebUWegs2fEvnmtTqw+ZMiH9/mGUGc5dUrnQNeZ+F5g7ysXzKYxHEanmck19ycWTJBkWCMcb+uGGGY5sxuNuva/EKQecVkZ5vWgPB38jwTDCPT4QusBUqZJOW6MigTSkhu4FVME8EoZjxlvL0NSUD+W3k+N4gjYkydMN/b+3VlDdo3sPZtt2Bmfhq8vQ3g/WKexw5DI7pC3q475G3PbjaVKHOmNelsA3i/mOcNu3PFUj+2N039OrfIE0ZpjTJx52lvA57/Xp4nKDN4m+GatXfMDHW7deXoXzIpbc+OzR7T25sBHm5vA57/Wp5fIMIcJsHtOwrPL/ndSdMXcAD0IDwPclaeBwGeBwGeBwGeBwGeBwGeB/kEnk8Ku6XQYPMn4/mCMVbYPye1eXvFSDG/Yq8zzWo70ebl/on3eB/Pa10IzXRxVp5vIa9mtt2CvHqvzY/zPDOYM3Fenp9GngUzrdoyojUNCy7dBDSW2wtUrg3LtU7Dwu8vd5fvEY5xLahgjJSb3sfzDvnivGP7Tm8v5rRlOcIiLHKFJA7zDx3yAmEdFn5/dWb/HvUxroWdtFpueh/Ps1I02Pzs3t6hWy/spLPQjbuN3DcrF25/dW6/rI7h4XzVpjfyfAX9WW0e2ykFM3v7sq1pRxsL2iRwh7yqAFVhfwf5cEyNPP0tf74oTmnzufnPRD7P5qu27d5ekNfI+/1t5OtjXIu83vRGf9469GZbwuQ5/fmc+SyRGchXbc3ATPKw4KLX27eQ9/vbyNfHhBblpvfx/EW63kxIlkAMby5D8Obia6K3RTeSo43NG7YvIIa3ZFS43DX/deQ7Nq+9Ly/lF4ztTzhDe2d/3pn+hrm3yk2w06R0V/kG7Krz9I/SuHU0O8eEvj39+VXI0w7yqVaIa+zWX3UHU8iH8wwe1UJenaIy2448L3VzsdbmnUtiK6WZdcLGXWI7gCba/UT8ohPbbJ6njIJI7A/2Y+8Q4yzfyDUIZ0ttdAINx0EB+Y7NJ0zLQuqpAO6EzTtrLD2ZXLy0+XZosxvbbJynvDZiWvlIh3uXEOOs36hxNk2pHouDAs93IS6cQW65Vlchn5Y2+HqM1nZ2h2KbadsXZk3kQ4yzfCPfoGpuviY9FgcFnu/H8JIi2ZZXZ2ys0UsPBKNavX0H+VZsU3Z6e21zrVvI0zbF+AYhGOavkVHg+Rk8HyOvTtkPaEZmqVvneonNt2Ob4TwG0Zy5Ab1ZVJc/mz+r8o18g/BDQWg0DgrIj1yr2za2tymUUuTUrQu8APl2bDOcJ9XaDuDMwgBLXHa2H+FVMc7yjXyD6myEWZ9wOA4KPL/jtTqiY/27a0M91F09A69uJs8fZ+6t7TEwIP82ngf5Sp6H+fan9efB5k/L896ZL8DmT8fzdvJloRnY/Ol4PtFscmIG2Pwxed74Qgnw/Pl43l2ymYIebP6QPJ+cmOfL+e9qTqrjnNlgE20WJlTuy/PFqcf2NfJqK6qzkFdLbR78+V9Dvp1RadMfJUc5dlcJlBjImGzPOuonXKJwjG/hEirRWEYlxO3f0NuLOW1zYjNrcI5Skdp7kPdnFQ0lVIaES/8u4ZiQULlXRuUrngebX9Tb23kfbioAUTmSdGBWUSetrpdwiRrHhLS6N2RUgs1v6+3Nqr0SLLhA9jGQMTmUUNlFvjqmgTx9M89bby6R566ZscjmBUHEdM/Y/MkJQQMZk0MJlR3kwzEhoXI0o3LX+faCnTeG15zSPastd7frMXaP7e2C0UDG5FBCZQf5cEzdYqeMynGe9zUzEgm1sQ4fyRmqk7MtxwZkT+T3y6uTUlrkJdj8IW1+nOe1n335XXH78yTVfvx8ez+DejARtgeZmgxcj5/HHt9JqgXkf8+fr+AcToRdjvyL87yxZsHheT6Uwtxu8yERdjwYUtcgI9q6ROViRkKt28vKLLtmUi3Y/EqeX4f8oM2HRNgZNj9UTHAioVagUH+omVQLyP8+z4dE2DnIDxQTnJdQ202qBeQ38vyGOjlVgUA5o7dv1B3sFROcl1DbTaoFnt/G85cNc3KqAoEhEXZc6rqDA8UEJxJqVfnL6STVgs2v5PkIubShmGCVCPsK+qru4EAxwdcJtW6vzartJNUC8it5Xtsgno/jxYnhzUuEnS4mSOButWjnOjnFit5+cwzvdI75B/J8eQcbiNuf1J+HXFrw58HmT+bPg82f1Z8HmweeB5s/Dc8nLAGbPyXP66kbV4HNH5PnE1ZMG/3x71fXLNHPptpOhqjG97/57qSveF7qyRrnZ7hfXbNEP9oR+d+7O2nRN/nLtNEf3+abM4F6Vtq/O2l3QlHr7qQDybTDdydtJNPulEv7gufdbJxJpj/FPSpRNflLvG771ruTgj8PY3vw5wH5WP482PxZ/Xmw+ZP682DzwPNg88DzH27zkFf3GTxf4jCdTzkTstcJlUinkFf3ITzvcfDRT7Id+RcnGrpNKdj87/G8x2E8n7KTUemm19fFBFPRiX8OJ1TavYO3KQXkf4/nQ3mpudczQjFBJbAtJtiPf/YTKt3eoduUAvIvhatsb5ufkU/ZLP0WigkKPlQssJdQWaXUnS6jEvx58OpWyeUC/jzwPNg88DzYPPA82Dzw/EybJwzkLaLpZ/E85WmKMdn26D9XHHvoB8Yp55/E87a7t9Ab8LdI2vu77tgDS6qUsXn0MTxvjZ5ytVXS3t91xx5Z+NbOPi7Pe+gpB9lZzJcci+Uj2byF3giF575P6r7mTXhH5nmDvMceZEdB9ok2mnxknq/x3/REvb/rjj3oM0o3H5vnQb5Poto8yMdLdJ5/KckVt7S4KpQUPIJmRukmxZfMKbmgWJotVaUGlEdT2lTD8+X6O2x+CPk4StE1mqJYSqNogVQkxdck6P12o+U6FrdbUgQtklsxZxmlt+f3bLuq7YpJRJvHxo6XKy2SnvIoWqC0uNR6s0rsOhZSiJb6Py+WbhUY82OlGd5Vj58/LZ9AhWnK+PFnjQDyHyvpsy4bnf4YKWjLn6+9OkD+SJIRKQPSF4P7zahq+vMZIH9EUU/5rJDPHj8/ZuRB/aLvzwPyR5qyI2vkuUE8dSPY5OfnkQ3484D8YXr6/CkN8H5iHDUEf0foYdBHfw30/bg9jPAONKonT4u9N25v538edrx3fzwG4vaA/JGC8cHmp5sC8keS5/P+fA7H6YHnD23y1pf/19zieL7lzwPPH5Hnn72kUs/zTX8eeP6QXt2CO3UC8ktMynrLT8556twnbNbcCjErRM7elw7uw+195gQ0b++zkzDNYtFnBp6PEyFLjdhQaGYWaUrdN1muUKWwau9TI/uyzr405d19WA3scx+BLEMeeD4O8h/ht40Gcoa6euD5wyCfPkdJ/rnsJwTIz5YMZx/wKcZu3UsH6wQBz0cZ4Un1wcjnT+D5veTf84ORV88UAc/vZvPpB3yIkdpvab50qBgFeZKfQZ6fYPP4s/x5fY6CFZ9g83jZCH5nnqdnQX6zd6DFPjY/6nTszfMnRJ5p23cyYf738v/vUoHoFwClneK8gsWx+ey5vPJrFOS5/c+lkEeX5iDKlWxWBklXipUR0rtaMgPWNchXPz97DUESVM7GyH6R5wk5epUaTMaRH0LV3orOVunN7T0Ic6bTUMVZCVey3zcpXxA9r3Dvv4BhqtQ/F91PFf8lnuceeXpwUc1ITgd5IcrK3KGCeyoZSZHWhBjoDfxYM1ohr3MiGK6auBeY5Sqfc5GVL+si/tDdeZ4cvsg4bQZLOsgb4QNdeWpL9EvtECesvjWl3UPq3t68SFk+D1Me6b+Jx/Pk8EXG/72w+RES9xUiK+RJhTyRvii7Q758Qdi8ezNss/ldeP74Ni/v9Qtpq/KnriNvIl/39g5WXHJ32+btVlUhH16gfA7R492uzz8edovQy23+8Mj/Z+9aFFQFgaiKYkhcX5WWu9v//+WdAbOs7KGilNBuIGjtejwcZnillz48j3EPGmVpN+djKKSo86DloPPeWeddeAYkzHhKfQC3z2Xu6Mi/rvMlYFhim7NH2/7bkafB5V3ESpqnCvUsu1ctC6gRcEdxgbV8LD2AdYUODX2s+9Up9UH8fKuvHj6813VeZCXPWFauLOfHDONtrzSQ8906zwBzxq3Om4u8Lr+9RL7s1ba3yE+BfOQO4ny3zjfrqFudv2PPRwb8Fbrs+abvxXL+jlWXfhzyPez5srQ6/8iH9yHIv+O3LzGAdScs5x/58OZzKmjS+ZWQdT0XrNSh89T96OFYBjzc7lh7Rd16crKyBNyftO/7cj7Ksg/un/8lBiD/HueDl3U+U7a8EHrs+SATwecGs2dXjWDPS+rradsHmZ1/PSnywev2fB/kX9f5D0ceVx2TKxARmcBmdjMoqilL22VICLlo1XUZTpXGBa1kFs6fVQk1VVr84hRrdR3OtZan/8kyTTovsstodM6nn408CXB7LKc95dlN1ZRnLItUoqjLMEvOpw7q6dDnskD8yqnSNIabl8VuEMkPUFOlMYHX/cF19YfjzlyyjA7ifLfOQwtPlCJ75sDtr/O2tj+5hVR7kcrBGx4gT6mGCZurN/rnlVW3spzXjDznEgPiqZuXRkTHTN23xuGVZdlv7K3l/Fucj284P21TcbxxeJbz7yGvOE9drcgHq+hFnWd9emyszvev7TVzflW5L+q85r46y/mL2r6l85qQd1f659VZne9X21udXyjnjdF5zePtLecvkI+M0nkw6i7eLecns+cN0HkmylWZWb/98ux5QD1jzHJ+afa8suwyq/OLs+drx72wnF+ePY9Tq6zOL9GeV2znQzhPZFe067mkiSznl2DPU9ywmMZZlsW0jizyH2DPD/bhpR4uH+aJOPCE68rIc6gKFnmD7fnBfvs4xi3TYlyoi0PawShVS6ZxnC9ug6E6P5zzKSIvN8wTnKsoyOrALOcN1flSjb/kg+z5G+QFjXC8uht4traf1of3us6j8w4XSxlkz5+RFzXy5zMt8obqvFo5oewzx8a7RZ7zK+SnsufpH+n9Sug0nDdM5yXyQ+fYyBYeVy08FU1t1e03A8LfInWeQQsckR80r05kOAuIezF3AxVNzXlAft/52jwqhNdUyJtlz2dqDN4wvz2uAUs9aMnjkm8YTe7JoeSvM5D972b/oPxvmtr+C+15uO/4P9A0kDVLFFxMCDLCb7+fqEI3oW0/qT3/KJjgw6OGIM+N9Ntn2Rf3z5uBvHn98z2Qt5zv37a34+2n5XxqAPJ2vP30nP81iPMT63wQPuufF1bnF2bPNx4dq/Nfac8XoYa5tJ7l/CfrfMbU0m+W80vT+bLun2VfrfO/i/HhvaHzZfZ+C89y/gt0fiH2vNX5eez5IvRDX3qUIA6LUw4mIv9UJhNEup3qMnlSiHfrbllhdX4Me17rvDo/3263SnUgIGIhJhDwQma1yvxWGSbIvbI8/DAf3veNt3+B8zpWC8/9z/LhGafz0p571mFjos6/xXnbP3+LPJp15dPdqwxs2xfkZc4vuH/+kc6L7Ol6x9ZvP15tb9T8ef58w7qhbXtrz8/UP//QnhfPl8wYqPP+1vrwTLTnn6v8UM5rQd4PP5Lzy7LnQx3If17bfg57PtySOe15LZx/w563fntnJr994c/NeTsOz7BxeCzDT5Nz7APOmLjzMHXlO9v6cVJOfbyLjVPfSB/eInW+G3mGTwci7wG8Hr9dZ6ErH3CuMVZOfeLUnn932T68W52f1W//AvKS/Y5gwb1a4U7+59nzi9R5UjxDPlWs9pinsjE4p6eiyX8xhNRIzi9R5zvb9g3yNbQ3CHflP7zHV61+a88baM83yAcd3G7lA1u8W52/w/m8MNGHN5M9P6vOd3JeMILoxg456XnUru3b+Y4nXrLn/ZxYnTdC5zuR9xj34E6AtR1jit+untfKZ8x9yZ6nW3+pbftP0XkgMWM8aFJMpHfPOOW7jNzY83dvMzVQ52fqn9cwl/Z1nSevDpZ0W6y+zQ8ukH/Ze2uID2+e/vlwGxlpz9+eL9zufI9lF6Xb18fe/i65f35x8+d939rz8+v8HKFoWoALt+dn1fnQn4P00rSjztL752fVeS3988/G3tJtTinW+Qu352fV+XnG5JBtsc23jh2HZ6Q9PwT5pxIS5hCszs+p8/4cnIfaXiG/8P75WXVey7y67RPO7yTweWF1fl57vsAxU8hSch481UypbpfJhjkmolNZa0r1abr109q+kKR37Ti8ee359tRoOXjKvz9t+s6U6vB+2Qs2fQ7PxzLG4dEyuNB5b+WQS50ndGn7zxfYuF+EPR9VVXnSeVpWVbGVmCudd4E8hvvtNWC/FJ0PAXoidR4egiqiUDFGSudpiNWmXSfna9v2CDiKYFBVO/gqxPsgvzmU4mjXt5+7hafPnie7qvJWUNOvThbdNgzCom5WLUzna87/LmT+/KrCEJ6tGxlUI28CnY+ODpEXwV+yqsoVdQ54dJkLocmNMDq0c6Mm94CBOilGxCEYHetcxzmq3EjmUlqfK6OI1rlwyU+8OapcQo9N7vlc/IQVXNL+XKo+N3Jo/aURBtx4GwKIZ314mUtVLrmXe+CxLExR57PYCyAJAT9BRQQP4VyMyN3cF56UQ65q/MaBXVtGWP3yfsFwnT/83A2lfAcabG5zz4dH0MQ839Uwkhqw+xjTFsZXuedz6wfrePHAcq4eN49lIitLN0rhaTsE8GC58NxRJzhAJB/jVZ17AG7d5q5k7sqF3BQP0ybXPbirVUkKuBBz5f6j4TbEjUgjJyjLsgIg4b0sBcd3iOQh5lZYKmQhF00uHpqt80lV3SJ+Bnhzm1s2qao6oMNIuvsmtuc1uHJWZXT1vQ0JY9wwNjgEp3BoH6pQXOZC5Bqu87T6SRKCL5oQAm+UJBRfhGIeBCJzCK2zExlDJqVJ9XNy83+8D4+WfMeDLh9e0CcY3rZPNj/Dr93m/hSc1+i3T3e7Kq/4fRkOxkDeOJ2n1c/wa9M8p1qR1z0mJ+AVNFZWu8qndzmffiPnByB/vnarU+kbH542ez6suJxQc9jxa7EfmfPut3D+X53y81An5/XqPEo8/Pk7DoYAJIOlcH4zBudDnUKvW+eLaodd0SVHq7TkpdX5F67dN5zXi7xWvz0tLmv4O8NTrc53X6u3tueTzKt7QEKr8506r7m2n2RMDup8lz1vdX4ezk8zr67sRN7qfLfO627hTTHHpjtYnbc6b3V+Yp2fZLy91XkDdZ5bnV+mzvPZx9tbnZ+1bW913trzVuetPW913trzVue/T+cj7f3zVufH0Hk6+isCnceYNJwnVucN03mqJQDn1VBQyflYIt/nCfosnQ/lTHZf3tx6HYtCJlD58lbZ9rYsvC1zVNn4Og/3Fidj6Q3VRtSpn7d/9x+m84XvN+sf1IskYOK0+8zV2gitstMCCq0yydBtrkHnKU0263Wi4ee4/lPx8d+/f3B0/Dv+rf/gR769GB83vVsHX6Tzbj6+zmN1vEn01PdJK4KEg4P+1c+r8foZ8ovQ+WI7us77DiXHTUK1vJzkBOEp4ciXLKkLnh0j5+kH6TzROm9pVHuekHST6AT+Jk0f5N8crzekb3U/C+fDXDPyo+k8JZE2zj9NyoPHx8dNbzfALDrv50ZzvqXzUbBZJ/KWj/1OrzLbJZdndB+vnyFvmM7r4fyFhoym88B5dzMF7g2Lz7n06qx7x8cNIaPpvOd5QeDGmUad17P/fJjr0Pma84YG4DwZS+fRmejF8DaU80HM47SJWpzXU9sX49vzwPk/5LyxYUydF1kcZyzz3IE6H/BMZDwlMor6WXUxi8jrF4Qa7HnTOf/vGeff0HnmpQGLh+s8F4QSwT3h0kB4NHBd/PHuAglPWlrH7c9gKWHdyDfbUqccHtVL5MfR+SLf1jp/Cvh/ChdTrsDvThKPcWAei68QydjFOeoy7wa2phwSWdxdnBzlx/Xi/Bs6zzz1O9SeF7iJoOAxRpxDVaLCXSAZz3ADOpdxdo38g3+q2ZaaQMyY2/jwml6BsHHq99L5CK5tcx7/y4wdEXDxA98tkkSw4xp/24gwdnmOumx/hVpTfoT4QXGC2tuX82/oPKtDlg7jvCsEF8Ll8gEQAaRl6EDew+3HRIzIE2AyPAcBnIrI4wWK0w62Py52q2ptS82Z17TtQ9/nu1avwDtaeNFGyHOCOr9OTi9AYB0D8muWoctdsP16z8ReUX6dtE9szoGj9dpjXvuUi89YrwFdb91RnGR7zq4KT69jf+SvOZ9mJ+gH6nyKLBeRov5/9q5FQVkVCKsoLiKprJVWZ33/tzwzgLeyMpOyP8ctEchaP4aPGW7CMf2Jw/Y84wFznYy5iLyUrgfQS4ntTI28TKDwuw6UCA/h1r+vvy01721sd87z/m80gefhY1ttz8cKWKXKsQBEKqzj41ShCQVVqj6YVP8ulRVObZ4YIzkgDNd1nv498K4b8x3m1fk4frifWL/iOXk+yBrr7kmejwD9hNfI1zmH7HnAUAonkYCfEyCSQqpTrfNYZOCaCYyKmsq+sy21269LzpEn21+9Ygh9SOcpkEZU5h09VH3pqMAnvERYQOkh5kydUcvbPKpISE8ltHma9FOM9lTSv0MnGS6GdR6Lz4w8j5An0LJ3mZiB54VaOY+L2/Y8wJaADnuIvKe5xu0ijzuSIvK8S/3dbaldJqPbPrzwV6+kHj7A86r3f+urXtoa+Vi16UrGY4NaKiTS/HlVzWKTJ4E88OM5Fg/dP2uOJt3TtT1vqw2sWjrJKSA/VNXHI3T+Eb891wVbMPdJnacOhbY9WHSUJ7d9eIBhxCQQNiDvalXuIo/hrIO8fjidbakBeOLcadsTXyNJH9B5M/DDa540EjYScEPCFUCTlBo1U5PXGf/aPPgxWSeoPBhu0vGzpflgC2r78Vghfwl7Gv9t5rPns4SJxAPcb7fvx9jz0MLjWYbNunZJtms8jwhKxNUhyPNeALg2PO8ChycXOt9uS02wAeC5+7v2PDVt/rE8b6wDN1aCYDHvhNoLeEPDW2BIyqaVFrfjLhDcNg+iesJAGjd5UM1NeslNPp1u8rQfR53vpDU5xuh8MZ7nAabO6QkfHmIeYE0tOnvLmn1swkvkPa3kum0PVnogsT0XqTRo0nsG+YS11Xq9LXWmFSm868NTY7jIAzoPwPte3mqZMsxP+MxzNLZLxKfEilvUuBvB+jpWeTAX1hL6rcU9btPxZqItF6kJNB9HroNv6Gu9zl5NR37QnldO3Of99roe6g0dmH9MTrtd9V0fnh6ztx3P8wT0PQvyTXxP0m4o7cVCNV4O5BtOv5Q7ybPa87ooJOxTxuQ021W793x4v/XuVWN1HiwC9OHFT0kpvNHp6aMfL2f023PRPX3SOLy9f1vn96G/HeHU6/A8enKiMTp/WzbPpW+e0fmCZ+P76iQ0yOUd1/1zOu9uHbuSFjs/xIG6vZfaDM33t344kNi8QnFovbf0eZ23Kpv79nw2vn9eW3U2x+FZH5OjXfdTJeyMyZlD5+0iT2Ych+d63oePw3OeAb5pCOgxOeWSdb6cz2//mnF4Vmr7jq1Ij6renib856x/foNUu9C/6bX91b46m217O7X9bCMzzsfhLRb3eFNOb+HN2Fc3nuf3dnTe1ji8DSq9etbmbRlhdUy36q731X3cHJvZx+TU4/DMQ27flhHG49N43o64tsbhbbrP+uzRvzV+M6s9/5p5ddemQxPn7lTpTlp/xFXHLzvv2Ft8xl2JB4NviS/ntOdfsk5OO1W6mQ7tY5TuQx9Ocy7SMBC1aZE1nr9AYQHg64t57fl1zYy+Pb9ZrpQfNq/OuszO84uVj+N52zp/nHNe3bJ1nnwWzy9a58vP0flyTnt+5fkP4vnNas9/Kc/nM/rtV57vrZlBI+uLoj0nn2bPfwrPA/LZ4ZTkSV7o19XgvYTzLFxKHdTjK495cjqVjx5lFZGV5+3wPCV/get688tJiESdcb4k40niuY9KEGTZdORXnr/N85SQLAvc+cUT4kcFFPI4X8DNQCI49F8bMhdDCXeBX3l+Is87CH2UtRLAcREMzNHJdZ5wkcUTXMXr0W84nw1xJBFRb+pch8zFWQK8EbVyrrPyvA17HqcL4CPuPO2LICH9hGgowUiTJRM8U1eJVCseu1hxKyTxXQdMiNSrZPYSjEzv2lx5/rbOj17rmtxJIP0skeCRiq5XOc/Iw+unjlnseuX5iTyvo5x2AXI6EGxPTUp71U9oQpFICF5117e3sMD9yvNP6LwdIULPeLO+j83K8xN53h7yybpf3cJ53hLy6760H8DzlnT+FfvSrjy/RJ5/zX51K88vjefXfWm/ledt70vb03VCVp5/gOe3v3ubyNvV+YAXpKntXV6sPD/+s/tfm1N+be9LSwq+ywzyxY67K8+P5nn6a7Oyt78vLSl2x7AuA4eV50frfHR/LaWl2/M/O+5RJ9jxIlrt+bE8j3O2tpFV5F+w//xhd9zx464gw237SeMKxOJ5PqomygZLDXC8b9fIesn+8/vd8bdZCOKy0pkiyQM8Tw4O/QEBrjkURfFDnQovK0hAgVh9qvAU9WPpeSx+Eu5w0HeIzH27sRHGFsfT6XiCbyvg3D3pyIHYU3M6Hpzo8INfSvs/JdI/hd78gQP/TNWPJToWansV6zEpZVEEkRoAAvWMGrgB6oQn6lA8ER0b3Yx1BmIPxTEk+iPneT38zxP1NNrT/WMqz7+qtq8Op1I919PhVOnzRr1Xp8MhP+YQOIvFY6NP6Z27RyDwfAme4bvwRPXpXixpYw88UYkV6LyUiec2yKuBVlSfoJSoUVeAW2TKQ4QwRlAyD4EqhC6UvgBLKnEyE+tiNNTnB9C04xHTDplDMPbHhdgfLLDBTwEHyODpeuLCef62lHlevf1HnPN8ZqG2J4A7SGuiBNttSBue/5kiC2/b36gN4A+Q/1sA8rrHhthr2+8B9X0YHo+FuXO4RSEzIr84e/6qhFut88tBnnbG5MzsmD8ed5E+K7OOAvBhCG/aM+kWX6TzZIs2+lJ0vq7tLbXtoaaHVv0PgA4t/CPwPKg7NjUQ/5l1fvE8j0b6Tut89n7kLffVBZrfi2MA31Eciz0ATpw9vEJN9t/D86ReWoeW/y2jtrfqw6OhckRFgbrrwcAdbjNclA61/mt4Xq+y9Lsgnn9p/zxRu7eBztP64nt4XkPvL6ht/4oxOT/FNR/0t/G8v6C2ffQCnVc833n+IZkV+Y9p2+uZcstA/jVjbw3Pt1ZtZkHnP8GeVzuYlvl/X8fzNeU1Lrwv4vmw7m5fef67eJ62A2kX6sNbed5W844sS+dXnn/Rg+4MqluGD+8reX673Zk+IxUIHdONpLaO7adhi8wfk5YZd/RVlW/r/UX58L6M510fBP/REANm7WodIP6YNH8g7faMmM5jXe35f4zntyPnQq08/6/x/Fjkv6pt/+32vL9fns6/Zi7twnje6uSVmxad0fn/FlTbfxXP25ydPCT971uWD++7eP7FOu//0iXy/Ffa81Z0/tpd6VlBW/32b+T5lyLvRPSibb8EH9432vN7YgX5kXNfF+LDW+35C2FMZ+WMiYF7Xov/OHt+7Z8fRt4DeD3OLrJfi+8g3zr168DK8wvh+THIM4nvggXnqVfioTzXGCunPhKK8vyHX+3De4DncZ4zICtt6rwf3kU+01rtMU9HoTgX8ZNkGTofcW57Xt1jPF/AzyiASdn77HkFsYH2AuFr8Y/IVB8enfNQPI+LXVubV/cgzwtZcMlk8UYfnkI+uKLb/XiPvUjnqUNnFtR5tb690vnErHL+zIL1T/I8A8wZf6vfXiFPaj6P+rV9Lz5zu8j74WidfxR5Sm3uXXbMRR085bk7K/bjeV4hX7zVh4fE4TkJ454nWHKe2o9nE6y6x3UeNDOP4zid9a+q4JZ/cFYbildx9Vf9/cFVPivfj+d5ZkTa5Pnw5tqSeDOWOQAv40xceNt68WyCJ+dxHx4lUZ7OXd2n51epPnKbfH+D52UNfVEsoX8eSNC9FT9N5x/04QEpVzmCMuPf5eEo8Gmcz7qrSXHMRtvzhbLrCiYWMd4+E+71+Ay+ltj34VHcnDam6ZxHSi8KgX5L82he5Pdj7Xm1WSbjghWfNibHt8XzlGRuniqh5mVgmxyuXzRtRAdB522adzfteVkUgPudVp5Nnrcuk5CP6RluT4VpF3DaLR12kb/F89qiE+JfGpPznM5Dy76qdd6+zIz8eJ43ul6wf2kc3pM+PK3zL0M+I2/h+UnIL2NMzlgOmaDzWfmpOj+e54WcUNtf4XnaO3V1/rVjcp7kefqEzjOu4ZSiH3EL+eo9PA8tPF4Iec+NN0LnMy6xC9oVsmOYZRZr+6d9eAPOebVmJo0U8qOOhJVpXDFpgoyr2D8AXGcwEdePt/G86qxjdz3393ne5SIR0ouE4EIEr7DqnvPh0UHf/KlMG50fdZQsidOEsSpOhUxjDXSqHbZ4jEC+eg/PNz30z+p8InG15SARkUN4QrwExeOLmFc34MOjtMrzstyUHVEXqj8NeD4eB33FRBqDUeyB4gPITCRMlqjqaSKxUEAAC0fFGUuwCkgEUynNDTbv4vnZxuFxqbyQHPdA4Dz4n71rUVAVBKICPlYQveKqtdvj///yMqBlbZmWChm0KEV7b9vxcGaGAbnQRU+y1iUspFbLoaFVe3oZdeWf+jSJZeNR33mJdfG8zofhQb6YULUnefOA8o+o6Loa7ZMTc/sOEvU0iTOJ+jYGxGO2ixX3Jd4pS2QjjXmSCLHN5AWQwPja9LT/himdb8P2L9v2nGcg8JyrNsG6ZJrz5+XQ6GI5dHTq00G566XSdU8fHQr8H50Pw3+w8TlAndOroufQIYaX6Nm6/gOoO5KY81g2jhJZiTKTDUCeHWG051zaANt4J68RuCL4MVE97b+RpKZ0XjyD/C2dZzHLGA8a5JfQ+SdjeKEa6HfJ8S/sEnjScj5NhhXJ4G+AfSsRBooD8ls4S/EHzsvBL0l2ej5UDQFJ09NcOqkpf36y3FsmqBdyxuxD/sz5UKn4QVpyhxPU5+FePjTwjc4PLJLVHPAHWjfIH9U5gZdi9q2UADdv1pBn7fPJOW9A5xuyZ0zp/NNzdTPG8MCYTwmBgf6g+E6ghN1HU8gIzkug428l4NtEc1pz/htLpivy83h7FOIbf2818tlW9ZyQz83o/GScz3geBjzDHIUBwxZyXg3y37K9PeR6YCe3EijauP1Q4NOtwpzBWK6QTRnYfAxeyfQLsiuV5j/fNZzXPfNwfsz8/ET59mDNc0ZCJg36jFrG+e8DMFm77MfjGfebGZAjOX91IXTP6fmF9LKmHeSN+fObzvGlGF7GAPFcuvG5Zx/nw387DXyQ560ld+8XGgsvHfQ4H9IW77RzPL2eni+Htl89zOl8zDdfGzFrvr15zgeSx02Y7pj3497M1aVJOpDkF8zuwN7paZ6fzp3LIDXlz38B6iKeIG7fM1dnmvN7Odr/awO0W+20P5qrUyAOKOpt7XuT89Ok23M9ULQnqCZ1XjzKvP16+/vVBeSwhdF+t9vqJQ69l4oa7dO0Q9Wen9tgJ38ug/PpEnxz/ryasuGr5jxYePQYoB+MUfDwFoGthZcOL8nfZnLVk9x6MxSDOi8+QecJyQOEUCCBf5jl3HI+HYX+/Tf3dxjUeQ3t2nWewH1gwa5/nN6udX6p8vb+vN2cP5CQkNaNf3ipnDi/CPLHN4/bW67zoN7yp9+du7DtFyrbt4/b2835XEVlm3SrNXPeQNzeds6P+QXg/HLFkM5vdAIuW7nO5yORD3bfu+9skkfbEFw3OUTOGPtmu0w+dlt0MJdvD5ulrD2GNw55GiCMM3i8/LNRpyzbCb5RDaYyXlmGMUbgZ+Zzbo/Wt35e7ZywmSTf3mbbfhTyUuil84+nK1+yCg4NhDXyGeAeBMPczOcLPY8Af/LwAPm519i8m85L0udBgFTo54Wfpuoj5hyponZIylQ0Mc/17JE35Wg/eF0d5xyQ507nL6GHwE/e1Kd/VNXHgPNAtTKNPAzzbXbIpMhf6HwU0XvIC519ufq4/chfAdd/2hJwlsOZZkLtjYVySk5pQM6ft0PnPW/yPdGk6cCbXdGa/fAQJQPDC6/p/Gf788/tdT3pRohqD0w4n/fAJPPsfjoybi/EyuP2xj/EYvveDtX5p5Bfvc7Pgvwi965yOv+SbT8L8szE/vYDdJ47zs8+2i9xT4vx8/Ox0/llRntrdH6ytbTrs+3n4bw1Oi8giKfjeM6fnxn5Je5dNVznN80snYvbL2XhWaPzGzHewlt73P4jdN7l5Hyqzru4/bpieOP9eRe3/zid/5B8e6fzTuedzp/ubDBgwsbF7dfnzyuHfvPw7lWO8yvUeS7aDa+dzi9g29NMCIV8Dom3sPbHU7l60Kmy9mBkCNVLnu6bTec3MXt8wzpn209l4WHO+X4vQcd72eABpfkeWphSol7ZU0qRasFOTvI0nz/PH2+Z4fz5SUZ7uh//e+gl5Pv9+ccq73R+Gts+57Mj7/x5C217FuZPcP6ARyLv/HnrbPs9CZ4Zuel8Ou/i9jZz/jXkXdzeDq9u5Mj9DPJO56207Z9irdP5N9d5+iTyaEZ/3uXbLxnDG438/qXrrXb75Nhg4RE8O+edzlup8xeRnDjW36T+NuP8EedPQX1yCuo7ndfUvvfQtv39Va7LjfY3kIcjKCcmj5BXoXysRgGI7judbyJd274C9yS8Xw7hMshf+fNd5J0//8qA/nw5LMX54B7nGWPjkQ+R03nPO74A/HYx5O9yXhY6Gnm0R07nYQu7+1vU0L5OciCLfEJp4V3+RwNH+/D+14z3gdN5+8sff34g8n1eXbZ/FKf4bH/eFuSvYnjKon8N+XCPnT9vP/LX0VvtxQPqQkwXw3NxextH+yVycpzOWznaPzM//4jzygJETudtHu2fzMnJH11R2MM8dzrf9x0FQRA2x/fh/MMYHiRtny09p/O3vnohBArV0ZBXN0seHt33hPGdzitTiWFM9dEQ8iSfHnkCwPM9uZx6alduOZ2X3wXjAfE8xnNiZsiZKScH82atzu+GnHS+/v11On9CXg3zasjHniHOP4X8I9uAYjXch5tfkHil81+/v5HT+fOHRijjWB9tiOFN6M/j/X7vker3V0EC18CX0/nOVw+fW+1eIDJDoz2dwZ9viR8qqm9Cj2ryG9H5OqrbGnAuzz6ZqIZedFXremhlWYQ5ZlWAuPo9b7I6IoZ3lU+lV0tfrKS+7hsTw4t+VamoKX/eL6K25oU8l0U9USVe8XTFvCj8sCiEKAoqn3tTVTKsMlYUe/kZsPz/uTzvUVHkXLdJoM+HQL9H9lWB7qvqvKi8IZVWPqmK4resIi9oKsDQtBErqk01uvJRnPdpU+tAyG85knydpoY3q1+SG1XifPGcokp+lqrEqJLPy9KbpvoegfoYec70GZCPM3n10Yv+yqtlDZpztwYDK7z3pyi+vgrfQ00t5WtNG3F99Y2qHK7u99L5uiSeVYWwq/3wDnPslhIGP1Iv6Knm6NRGlR9F0ej6brY9LTpfK5nzbs9jbfuZ98npIWEVPVPezZ8v667BWXbcWnPIt5xfdFe0rj8/AfLWc74uu398RH/MQ2/mbiZdf346zlus8350Vr4IbsdMoii0hfOm9sP7CM53VJ5GtWa+ceRN3Luq689/gs6HHVdEct4O5M2M9h+m812Zl+O8/I7rqPZMcz4zYNt/ms53kQfooRDjyJu+X90ncD7yLz6ttOx/jDv0Zva6/jSdR+WV7psP5Bja6/rTdP6S83aUhfa6djpvH/JO5z+V807njXGeqER7Yibd3lAMz+k8/OVcCEh5h6PT+Yl1nhBIIgry0ELOh4wjLHCmjk7np+U85QwmIYXOc2zeaQ3nc0ol5jnNTSG/Yp3HMZdjaga8CputSJBNtj2LYeWhPBpaY7Naf55kEvmMw0KWLOdNiS2y7WkGbNdHp/MT6jxmnHsccjU5A0NKlTizhfNgfYiMEi80k2+/3vl5wrIT8jykuVRUSpE1Oh8yFmCOM4aw0TU2K9R5zOSX2yJv1qu7yXnw6nCojka9utXpPOU8F5xYgfxtnQ8QxHD00Zxtvz6dB29OvpjBO897ebq4/fr9eYKwHEmp9OoQZtgmzoekrokFyK85bi+5HmYQybEqhqf+gDo0j/yK5+cpBe4jdP6TLOB8k29vPA/Pzc8vzHmdextak3Xt5ueX4jyxJt/eNp2v1BLLSqx1fr7Nt//5yDU2PTpfyY9RwWG9nJfWXeh0/g/nuaiYiEW13jy80OXb3+R8LDGP2cw6X1dlWcKgG0EDYCEltICH/p0+QKo89UGXrzBt+yr9wgB/nv78mHfq7NN5hXw1cx5eXfq+DzDX8uzD74XQ8IlC6XZf+KcPGqTTV5ZDY3gu3/4W55si3k/nq3IY5+0o1um8aKF/P52n9VDOW4G8tfPzVeXy7Zew8CyK2/sVuPR+zOfTebKwS2Ul562bn+dqrK9E7M9o2xeO89bNz1cxl5yXSFYz6nxULIuvm5+/NdpfcV5oX57zWf35WZD3y3fkvFX+vKL+nP58tDDyltr2Jvz588aAt2J4o5FfgvMx88J+x6B0/vwrOs/FE6P9WJ3vt+0DFscXidAs1siT/mUa78Z5y3TejwWvuHgUwJ3Rn8cSdsy6ILfIP/LdIqfzr/jzlfbqzK2fj9VdWXkcKLBZTOUQIFvwBCo8zWQT89iTX9qgRRIuhjdA51UoxzeYk5NrcmOJqUY+D3iMgxPyQmAsoYevC8VZPmjtu9P5ATq/SB5eHwexpnEH+fNoL2sQywuMCw8WwErkh62CdTo/QOfjZ2ZsprTtgz+cv0Ae65lELfs47qr/fZ33nc4/1vkX5uqm8edJq/P0JvKoUfYG8qwj9Pdte/8/e1fA4yjLhAUUA4QQMWLyJv3+/8/8GLC2e9tuXbfKWIc9Tyu9u14fH56ZYRhGlMjj8ud3yb390Z93yoBt7+B54k5F5F08rshL0PlJ9uO/yBRbgPyAEflT6vzPMbxotSvL0puV45H72oJJN1l4Inv7ifNO3Rc9eB7J6QVKzhew7X/Q+V04L9pdo7cYDTyU8/PZrT9evv1T361uMSJfaDeTH3QeUvCC/6B8e9lLlJxHt36+9url9PyR8u0lRvsOoT+fPTtbb2vb7zj8jgOrKsScR6TzKXD/Cvo/5ttvMj//MPd26OsKK/LY/Hnl6611fs+cHFHjhB6hPx/W2val8/CeeXWk83j8+W04/zSSgzGQc9L69uPQQwOdSxdg8NVwMaTHAlr1ra9Og8W3vuHWFw7lzyOcn9+hZgYshGzzQsg2XsAjMMKdNgX44CqHZua+dlpJ+b2vvfaJpwCLHiPyVCdnhzZojJzHlocHh/1l5QTs6+oGnLO0+PLtjVoVw8NbJwej0KPMt1ehtv6TOE95eAt0PiG/bo0NXp1HmnWNa35ewb4TEXlLnN/HwsOVh9e228bt9260fh6NP0+cp/3nz8t5pHF7T7b92fz5VciTzn+AP086f1Z/nnT+5Drfkj9/Up1vFen8J8bwforb77GWljiPsu7ttHMw6fzJdL6e5meJ86fT+WkHG0s6T/48cZ78edL5o9v2C/x54vxOFt658u2J8zjn52tVE+d3s+0x6bx/tX0R6fwn+vPJo39NeuL85/nzUO3aetL58/nzEMR7TXri/Hv9ecc56+Jr0UGD2+kC3qHhAhzA+z69GvnnOp+ycV4qPen8+3TeGGMv8BNx5fGcLpp0weMVdFn+T9+F/Pnj2/ZuBYruHciTP184hreGv3wt8hS3R6Tza5BnbDXyFLdHo/OrNPsN9V+I86V1vhjypPOF/Xm3J/Kk84h0nne//8MN6fwH2Pa8KeTVEedLR3JWcJ6TP39gzl9He8d25DzpPFLbXqmJINcNWlMhi+4557trUD9F98FklDnaTzp/LH9+Qv62QSt8rfy7IT9/1ymoD5TLQX14Fuzlskg/iPMIOX+3Qav6vVenL5clUJDOl/bnvyN/v0GrMsb81p+Xz6EgnUdk4X1H/n6DVmj6nZEc0nk8Xl3zL/L3G7Q+Hu31ayXvXr3lFJzHWOx61vl7fz4Dfb9Bq1rrz3PLSecriRN58QB5DkPnbYPWJ8gv8efZ5SJPr/MYd7V4GLe/uu/zBq3er4/hdQ+g30XntXM82iaap1NRzmMsdv2n+fllMTzJfjIHN+M8s957I6RJp/n/WwZ5hEL/p/n538XtH7v3m+k8N51k1kVDQzA4ePpxZZBHuLfBQ39++Z9e/MaL5vayq86ndQPWOnincZ2fmiqDvB6wKf2f8vCWIx//enuxzd7+vIRU8vQAaGdSs4U4H136ER3nxQ7IV9pCKv/e/nwc8W1GvrCFl6DvkSH/h1na33DefiH9Pv58Z3j1D/JdMeQP4dW917bP70yTeBfRspvOi7bdlPOdi+N/Gu0NIb8shreBbT+yywVmcoehlZPO63i9pc43AHzlwKMzrvxoj9af3yMPb2RsjHBnjWD5ajPOc++dc6wB896ySo8Cjg58+3GUux64Oe92Wl0lhiEZ9m1i/Jb+fHLiXMWthw1k63x0cD3045sOUfVvO6p3HeLZMdR3RzBmGOB8uTS3fCqAZl4t/SDXaupzl1BXeuHRhDYdkfVTGyvNR2Z6a0wfHa7F5+ib9Uv8eSniTyWFqOM/NR2d7+frNxxi8dH3w1AYeX13xNfW5DOYYIbX7SVZYnXbcbiwbTfWeSV10+Y+B33pVst4H6px4cH6Oh1t/AqGeLT5dUS+D+H3xyJ//nsrpfNj3xb35+U43h/WjR2cc80MzoVg8X5ktmy6yO3/pevI8fksIv0lnBv4czq/d8EhpkM2+r+IvRBtU+m2YaGv6xBCHYZ49AvO8N7+YHN1enig9gxGVO6M6wpZeNMs7Z51cnQrb5Gcek071vz8o7C9dNEIqVJUmZVB/t8amGLvCklvQP6IOTmRag4mwqNPVcT6/7fubbd3bazGvI3zh8rDk5xHzkvrHS8zl1O+7u06zttDcf5R7q2UgLyz1htdBvnCdW/fyPmD5dsL0PnodGrPiyBvStfAPIPOP8y3B85XkCjmXdEYHiuF/OWcOg+PaxztjTXONGWQJ84X4rww8VHVxtsiTl35urfn1fnZ0qtKIa+PyPlj2/YSwfxdmX1sTu7PyxZBTt45dV6Medp8hCamGyPAIdPFlz69vG8R56UUQ1ue9uXr218K6Hzb92m9Uw8NUKnhAog5pltzX/urvmER58e27Ye2FeWRF+fj/LhJGuzzpcVfOD/CczeUR/6UOr/3evav/56MI0V5oT+qzh/Zth+Hsa5FeeTJn9+b89E4FOOIAPlD+vMYY3jPq+F87cGRjFtc54vE7cUmjKuX2fZIGtn272vD8PvRoLyFdy6db3vi/FHn5y1CztcH47w7oT+/EefrY+n8GeP2P3A+VYeanyGjNrb6T+zPf7Ptg4FnwfpC/nxabqLfjDzC0lj4/HmjoMhu/K2QP59L/7FIe6aa9GEqxeMDIOI15Msp7pRnLC2PuN57bfWPCJHHFrf3PlivfAiF5ufh72HwF2pvq8Yq3qSqv1WEmueikI5DlUCvxHzvqubtgQZ7fDqvIubKlovbp+LOUPTXQy3INNorq+Pr+FxZDy/yXa66+d4L274eJErkkcXtVchHKX/+WuhVpaq/GXkDQEPz+cWE/HzvJ+TbocfIeIQxPDU1X8i2v+3nodgd8uxq79+Q10zx1zG8sR4GgRJ5bHF7f4W+kD+fbXvhTSr17WDIB7AFaDpUlLnj/HzvxWg/9jhHe6z+fDDl/HkHiPNIem2jBZfKZoppN6c75Od7r2J4GAM5GOfnQ/ToQx1+Hu8xxu0P5tWhm5/Pw3307MJ2tr3cefVqjXkfGyz+fOR65HxEMnxSvj3O6C0u295nX9764+XkPG8t4hkbNHH7zPUQ1PHy8H6Yn0e9CzkWf95Mg/6m/vywL/I0P79A5/MwH9bM1ZWenz9mNhYazkcLz4ZXlj3l5HyiPx+yV7dx3B4c7LGt2zxzDue09qGFiy998kEf3Lr1yQRt/OmPlnuLLt8+hBC2zsmpq7yuMpdRTRcA6nBdYjn3ie999de+29LM7lCcP2W+/e7+POXhLbDt18zY0F7UH6Dzf5iro/3nDx3DO00NzNPr/Fnr3pLOn7ce3tl1vkidHOI8Sn8+3zDE+dPpvPKhDl6Rzp/Oto+ov0zMINv+bRYepvXzAH0gnd9rtMfDeZNmbALp/D62PaK4Pen8Wf35kKbr7CdxHqmFR/XwNm+yR4k81bffviFcakFx+51IPyLk/Anr4RX4noe61aiQlybvS4urTo7dMA/PuzIt9MFhasYjs+2jN+9TeZptOC+sR9AUhg8xbZOHqU6OV3azfPuq4+Wb8x7Bp5j2w8VVJ+f1Gpu1tj2KBsWX8Fh6aPLw4mtAfqN6eFiQx1NFA88aG5+ieFvF7VG0DhXyyPLtw0b+PHEeLec39ueJ82h1fuO4PXH+6Jw/um1POv8wJ2dlDczD6LzE9JBi4rx/VQDz6DqPqiHKtw/KqvDROo9sAELDee/h1/E573j8JqVj8aJy188mHc8nln+HC1P0g+PReVD510p/AJ33qoF6uSbCLue54Qx5ug0PrINnwjHi/ET5V6VPj2Hbe+9ElTGX/p+tL0S6Ibwr/zHJn387l6w1PIELnHeR7dbyG+evyGfOi6nTOctPy/lPieFFtLnRVQQ30h4g9tb667ifB4H4e/6VOxvpvbF+5//GWfLwdkVeWpeQT+DGB1OnF185n3/lTumt7PZWAOL8+0d7U3HDruBXVefsP8hL/6WTw+vdtZ90/v2chz0QzI3z1hjFJ1tPWDhpyyfax874WIgSyFPc/v22fUS+gz0xss57q/nM+cpZBjZfN3HeW+Hy1f7Ik85vwfnKqeuA7qL1lh+D1GssGHyT1KdXykni/EfofPo8OrpsPDtu3HLXzJM1OvpxTCapT16dmTrl3nEd0vkyrSkezCHOF2lsd/eddB4J8qb440q2/Vkb6fxZG+n8aZEnnSfOE+dJ50nnifNk25POk84T50nnSedJ54nzxHnSedJ54jzZ9qTzpPMY2yfoPGeMcWq/bYfnvKW2rhXifGeMsSuO75yn9odWAPn3NEL+pMgT50/LeQcaQG1946w7JvKVFF3DqK1vTSeOirzuGmrrW6fFIYGvZIRe605TW9HgaxMHpTxAL+OHF9TWNBlhPyrwgH1Ev6KfVT+HBp7artM83HHe7TSZ6GhGBs/MrmMN4+6P0N/m2Fwzz+NMc+23OfeGs4a+ciSN8S6SvvtrRsSMvOTNDefp/O0ONQwTu4xD0E+nnW0jS2Hhv3Cd04mqnEUKN+7/7V1BjsQwCAsgcsgl4v+fXZukHe0PerA100ITOlIdDJ1DGydva/sOLhQG+Qy4PgdtWsW6kbR6IGjmXRXp7xHOMnUiH2A+O12jX3+Ve4Fd8FQOhnYsiIGB9Tw5DSMnJoBBLImaaQyGhz0CDHuwa3YGCv66zHN5uS9scdo0VftvMM90Xv1+03CWfBA0DpnmE7kNZqv7ABA3R6EbxHEEYrc383ketQehcdTeNlu5t87bCXAeWT0u1f8A894afCswhDtb4cFipykUHu4+VCFfHaIQXa+5HMxayW+dn8bHxCC4+ixvVb+mUUxQSZaY/wSKrf2rv9ZaDOUvtvys00h6qPQjz7GzMGrNfHqU39T2Z+Uw53P/Bp6cb7rxQZnnOXXhP9Dc7+7PjrPYhzUvEH06NIxOP8adfdwv5xf9m9rW9wd0sUlvtc9bJv7l/Pm9pev+hb9ykPMvE7gDC6s20LWzNV8Z7WQNTKwxYRcGEFN9gA6UHs1dMmCljWWJAcxHFxjjzsG3pxam6qoLgiAIgiAIgiAIgiAIgiAIgiAIwjfwBxP9TcErmuq3AAAAAElFTkSuQmCC)"
      ]
    },
    {
      "cell_type": "markdown",
      "metadata": {
        "id": "KhKgFsBXwuIN"
      },
      "source": [
        "### Persiapan data (Preprocessing)"
      ]
    },
    {
      "cell_type": "code",
      "metadata": {
        "id": "v7fa2Vs-w_5J"
      },
      "source": [
        "#Cek Data Kosong\n",
        "data.isnull().sum()"
      ],
      "execution_count": null,
      "outputs": []
    },
    {
      "cell_type": "code",
      "metadata": {
        "id": "57F7Eo63wVgT"
      },
      "source": [
        "#Tentukan X dan y\n",
        "X=data[['Head Size(cm^3)']]  #Mengapa harus dataFrame bukan series ?\n",
        "y=data['Brain Weight(grams)']"
      ],
      "execution_count": 20,
      "outputs": []
    },
    {
      "cell_type": "code",
      "metadata": {
        "id": "RNGBe8T5xeVX"
      },
      "source": [
        "#Split data menjadi data train dan test\n",
        "from sklearn.model_selection import train_test_split\n",
        "X_train,X_test,y_train,y_test=train_test_split(X,y,test_size=0.3, random_state=0)"
      ],
      "execution_count": 21,
      "outputs": []
    },
    {
      "cell_type": "markdown",
      "metadata": {
        "id": "9nkuEbCBxY6d"
      },
      "source": [
        "### Membuat Model Regresi Linear "
      ]
    },
    {
      "cell_type": "code",
      "metadata": {
        "id": "CQEahhvmzAv2"
      },
      "source": [
        "from sklearn.linear_model import LinearRegression\n",
        "slr=LinearRegression()\n",
        "\n",
        "#terapkan data ke model\n",
        "slr.fit(X,y)"
      ],
      "execution_count": null,
      "outputs": []
    },
    {
      "cell_type": "code",
      "metadata": {
        "id": "hkKvGyesz8o1"
      },
      "source": [
        "#Terapkan model yang dibuat ke data test\n",
        "y_pred=slr.predict(X_test)"
      ],
      "execution_count": 23,
      "outputs": []
    },
    {
      "cell_type": "code",
      "metadata": {
        "id": "rvif7Yhv0L03"
      },
      "source": [
        "test=pd.DataFrame({\n",
        "      'y_test':y_test,\n",
        "      'y_predict':y_pred,\n",
        "      'error':np.abs(y_test-y_pred)\n",
        "})\n",
        "test.head(10)"
      ],
      "execution_count": null,
      "outputs": []
    },
    {
      "cell_type": "code",
      "metadata": {
        "id": "fSc7QflW6H4O"
      },
      "source": [
        "plt.figure(figsize=(10,5))\n",
        "plt.title(\"Grafik Testing set\")\n",
        "plt.xlabel('Head Size')\n",
        "plt.ylabel('Brain Weight')\n",
        "plt.scatter(X_test,y_test, color='y')\n",
        "plt.scatter(X_test,y_pred, color='r')\n"
      ],
      "execution_count": null,
      "outputs": []
    },
    {
      "cell_type": "code",
      "metadata": {
        "id": "9DOjoo143UT9"
      },
      "source": [
        "#Visualisasi train set dengan, test set\n",
        "fig,(ax_train,ax_test)=plt.subplots(1,2,figsize=(15,5))\n",
        "ax_train.set_title(\"Grafik Training set\")\n",
        "ax_train.set_xlabel('Head Size')\n",
        "ax_train.set_ylabel('Brain Weight')\n",
        "ax_train.scatter(X_train,y_train, color='b')\n",
        "ax_train.plot(X_train,slr.predict(X_train), color='y')\n",
        "\n",
        "ax_test.set_title(\"Grafik Testing set\")\n",
        "ax_test.set_xlabel('Head Size')\n",
        "ax_test.set_ylabel('Brain Weight')\n",
        "ax_test.scatter(X_test,y_test, color='r')\n",
        "ax_test.plot(X_test,slr.predict(X_test), color='b')\n",
        "plt.show();"
      ],
      "execution_count": null,
      "outputs": []
    },
    {
      "cell_type": "markdown",
      "metadata": {
        "id": "iCz2EEQ91wO5"
      },
      "source": [
        "### Evaluasi model dan kesimpulan"
      ]
    },
    {
      "cell_type": "code",
      "metadata": {
        "id": "_Cmiefd39Bfn"
      },
      "source": [
        "#Dapatkan rumus modelnya\n",
        "m,c=slr.coef_,slr.intercept_\n",
        "m,c\n",
        "print(\"Y = {:.2f} * Head Size(cm^3) + {:.2f}\". format(m[0],c))"
      ],
      "execution_count": null,
      "outputs": []
    },
    {
      "cell_type": "code",
      "metadata": {
        "id": "d07GB-RNLAAx"
      },
      "source": [
        "#Std.Error, t value,p value,r2\n",
        "from sklearn.metrics import r2_score, mean_absolute_error \n",
        "r2=r2_score(y_test,y_pred) # R squared (0 sd 1) semakin besar semakin baik\n",
        "mae=mean_absolute_error(y_test,y_pred) #Rata-rata error"
      ],
      "execution_count": 27,
      "outputs": []
    },
    {
      "cell_type": "code",
      "metadata": {
        "id": "CylRDMUF7Co5"
      },
      "source": [
        "ukuran_kepala=int(input(\"Ukuran keapala anda (m3) ?\"))\n",
        "berat_otak=slr.predict([[ukuran_kepala]])\n",
        "\n",
        "print('Ukuran kepala {}, maka berat otak anda : {:.2f}gram'. format(ukuran_kepala,berat_otak[0]))"
      ],
      "execution_count": null,
      "outputs": []
    }
  ]
}