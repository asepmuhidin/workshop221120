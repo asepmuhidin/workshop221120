{
  "nbformat": 4,
  "nbformat_minor": 0,
  "metadata": {
    "colab": {
      "name": "workshop-ML-Python.ipynb",
      "provenance": [],
      "authorship_tag": "ABX9TyN8MX7pdAz4mjMFq+mG7qJw",
      "include_colab_link": true
    },
    "kernelspec": {
      "name": "python3",
      "display_name": "Python 3"
    }
  },
  "cells": [
    {
      "cell_type": "markdown",
      "metadata": {
        "id": "view-in-github",
        "colab_type": "text"
      },
      "source": [
        "<a href=\"https://colab.research.google.com/github/asepmuhidin/workshop221120/blob/main/workshop_ML_Python.ipynb\" target=\"_parent\"><img src=\"https://colab.research.google.com/assets/colab-badge.svg\" alt=\"Open In Colab\"/></a>"
      ]
    },
    {
      "cell_type": "markdown",
      "metadata": {
        "id": "yLbFNA1lQQyH"
      },
      "source": [
        "# Workshop Machine Learning Menggunakan Python\n",
        "## Asep Muhidin, Universitas Pelita Bangsa\n",
        "## 22 November 2020\n",
        "\n",
        "\n",
        "---\n",
        "\n"
      ]
    },
    {
      "cell_type": "markdown",
      "metadata": {
        "id": "uxFJLPb7EPQz"
      },
      "source": [
        "# I. Perintah Dasar Python"
      ]
    },
    {
      "cell_type": "code",
      "metadata": {
        "id": "aRxKYRodD1wG",
        "colab": {
          "base_uri": "https://localhost:8080/"
        },
        "outputId": "501fb6c3-a5bb-43d0-b4f1-df03e8511e1a"
      },
      "source": [
        "#Perintah Output\n",
        "print(\"Hello\")"
      ],
      "execution_count": null,
      "outputs": [
        {
          "output_type": "stream",
          "text": [
            "Hello\n"
          ],
          "name": "stdout"
        }
      ]
    },
    {
      "cell_type": "code",
      "metadata": {
        "id": "SHxPp-97D14w",
        "colab": {
          "base_uri": "https://localhost:8080/"
        },
        "outputId": "c48db852-1d87-4b92-81f7-2f6f1f06b430"
      },
      "source": [
        "#Perintah output dengan format\n",
        "nama=\"Abdul\"\n",
        "usia=40\n",
        "print(\"Hallo {} , usia anda {}\". format(nama,usia))"
      ],
      "execution_count": null,
      "outputs": [
        {
          "output_type": "stream",
          "text": [
            "Hallo Abdul , usia anda 40\n"
          ],
          "name": "stdout"
        }
      ]
    },
    {
      "cell_type": "code",
      "metadata": {
        "id": "o88s-f9bD18N",
        "colab": {
          "base_uri": "https://localhost:8080/"
        },
        "outputId": "cfa85e5a-3925-4bd4-9a4a-706b81015a41"
      },
      "source": [
        "#Perintah output format angka\n",
        "nama=\"Maryam\"\n",
        "tinggi=187.98765\n",
        "print(\"Hello {}, tinggia anda {:.2f}cm\".format(nama,tinggi))"
      ],
      "execution_count": null,
      "outputs": [
        {
          "output_type": "stream",
          "text": [
            "Hello Maryam, tinggia anda 187.99cm\n"
          ],
          "name": "stdout"
        }
      ]
    },
    {
      "cell_type": "code",
      "metadata": {
        "id": "ILySlErlD1-8",
        "colab": {
          "base_uri": "https://localhost:8080/"
        },
        "outputId": "2e8da3fc-88b7-4e2f-8944-b8d509470d22"
      },
      "source": [
        "#Perintah input\n",
        "nama=input(\"Nama anda ?\")\n",
        "usia=int(input(\"Usia anda tahun kemarin ?\"))\n",
        "\n",
        "print(\"Hallo {} , usia anda sekarang {}\". format(nama,usia+1))"
      ],
      "execution_count": null,
      "outputs": [
        {
          "output_type": "stream",
          "text": [
            "Nama anda ?dede\n",
            "Usia anda tahun kemarin ?23\n",
            "Hallo dede , usia anda sekarang 24\n"
          ],
          "name": "stdout"
        }
      ]
    },
    {
      "cell_type": "code",
      "metadata": {
        "colab": {
          "base_uri": "https://localhost:8080/"
        },
        "id": "ETA8Oac_dWll",
        "outputId": "d86bd301-4f3c-4bd2-db6f-8133d9c94107"
      },
      "source": [
        "#Pengisian beberapa variabel sekaligus\n",
        "a,b,c=1,2,3\n",
        "print(a,b,c)"
      ],
      "execution_count": null,
      "outputs": [
        {
          "output_type": "stream",
          "text": [
            "1 2 3\n"
          ],
          "name": "stdout"
        }
      ]
    },
    {
      "cell_type": "code",
      "metadata": {
        "id": "YY6nfwMlD2Bp",
        "colab": {
          "base_uri": "https://localhost:8080/"
        },
        "outputId": "a1a7bb0e-49d3-44ea-981a-fcd1b46a9be1"
      },
      "source": [
        "#Perintah kondisi\n",
        "nama=input(\"Nama anda ?\")\n",
        "usia=int(input(\"Usia anda ?\"))\n",
        "\n",
        "if usia >=30 :\n",
        "  ket=\"sudah tua\"\n",
        "elif usia >=20:\n",
        "  ket=\"remaja\"\n",
        "else:\n",
        "  ket=\"masih anak-anak\"\n",
        "\n",
        "print(\"Hallo {} , usia anda {}, anda {}\". format(nama,usia,ket))\n"
      ],
      "execution_count": null,
      "outputs": [
        {
          "output_type": "stream",
          "text": [
            "Nama anda ?dede\n",
            "Usia anda ?23\n",
            "Hallo dede , usia anda 23, anda remaja\n"
          ],
          "name": "stdout"
        }
      ]
    },
    {
      "cell_type": "code",
      "metadata": {
        "id": "_9ZGcpwRD2D1",
        "colab": {
          "base_uri": "https://localhost:8080/"
        },
        "outputId": "219ef4f8-19d4-4322-c1b7-3748cf3ea26a"
      },
      "source": [
        "#Perintah perulangan\n",
        "for i in range(10):\n",
        "  print(i, end=',')"
      ],
      "execution_count": null,
      "outputs": [
        {
          "output_type": "stream",
          "text": [
            "0,1,2,3,4,5,6,7,8,9,"
          ],
          "name": "stdout"
        }
      ]
    },
    {
      "cell_type": "code",
      "metadata": {
        "id": "bSZ-twrwD2F3",
        "colab": {
          "base_uri": "https://localhost:8080/"
        },
        "outputId": "bd194c85-a5cb-467e-a54f-371a76ce5afd"
      },
      "source": [
        "#Perintah perulangan dengan awal,akhir dan jarak tertentu\n",
        "for i in range(1,30,2) :\n",
        "  print(i,end=',')"
      ],
      "execution_count": null,
      "outputs": [
        {
          "output_type": "stream",
          "text": [
            "1,3,5,7,9,11,13,15,17,19,21,23,25,27,29,"
          ],
          "name": "stdout"
        }
      ]
    },
    {
      "cell_type": "markdown",
      "metadata": {
        "id": "7-r_-BGtIgum"
      },
      "source": [
        "# II. List, Tuple dan Dictionary"
      ]
    },
    {
      "cell_type": "markdown",
      "metadata": {
        "id": "uzL2VInbNAm0"
      },
      "source": [
        "## List"
      ]
    },
    {
      "cell_type": "code",
      "metadata": {
        "id": "7lAX53a2D2Ib",
        "colab": {
          "base_uri": "https://localhost:8080/"
        },
        "outputId": "8af91276-71fc-42c0-e922-9ec19cb2caf1"
      },
      "source": [
        "#Membuat dan mengakses List\n",
        "x=[2,3,'dedi','cikarang',3400]\n",
        "print('{} {}'. format(x[0],x[2]))\n"
      ],
      "execution_count": null,
      "outputs": [
        {
          "output_type": "stream",
          "text": [
            "2 dedi\n"
          ],
          "name": "stdout"
        }
      ]
    },
    {
      "cell_type": "code",
      "metadata": {
        "id": "RHnlxnhID2Kv",
        "colab": {
          "base_uri": "https://localhost:8080/"
        },
        "outputId": "9aadacaa-a67a-40dc-d3ea-e5b8b128ae59"
      },
      "source": [
        "#Menampilkan semua elemen list\n",
        "items=['Pensil','Buku','Penggaris','Spidol','Penghapus']\n",
        "for item in items:\n",
        "  print(item)"
      ],
      "execution_count": null,
      "outputs": [
        {
          "output_type": "stream",
          "text": [
            "Pensil\n",
            "Buku\n",
            "Penggaris\n",
            "Spidol\n",
            "Penghapus\n"
          ],
          "name": "stdout"
        }
      ]
    },
    {
      "cell_type": "code",
      "metadata": {
        "id": "kuFKH6S7D2PC",
        "colab": {
          "base_uri": "https://localhost:8080/"
        },
        "outputId": "95c67871-0841-4f77-d238-8c96af57fcd7"
      },
      "source": [
        "#Menampilkan semua elemen list dengan index nya\n",
        "items=['Pensil','Buku','Penggaris','Spidol','Penghapus']\n",
        "for idx,item in enumerate(items):\n",
        "  print('{}.{}'. format(idx,item))"
      ],
      "execution_count": null,
      "outputs": [
        {
          "output_type": "stream",
          "text": [
            "0.Pensil\n",
            "1.Buku\n",
            "2.Penggaris\n",
            "3.Spidol\n",
            "4.Penghapus\n"
          ],
          "name": "stdout"
        }
      ]
    },
    {
      "cell_type": "code",
      "metadata": {
        "id": "-dTY1BKYD2SC",
        "colab": {
          "base_uri": "https://localhost:8080/"
        },
        "outputId": "75e1ee6a-7d72-4a43-dd33-0bb9cee47db0"
      },
      "source": [
        "#Menambah, Merubah dan Menghapus element list\n",
        "items[0]='Pisang' #Mengganti Pensil dengan Pisang\n",
        "items.append('Durian') #Menambahkan item durian ke list items\n",
        "items.pop(2)\n",
        "\n",
        "print(items)\n"
      ],
      "execution_count": null,
      "outputs": [
        {
          "output_type": "stream",
          "text": [
            "['Pisang', 'Buku', 'Spidol', 'Penghapus', 'Durian']\n"
          ],
          "name": "stdout"
        }
      ]
    },
    {
      "cell_type": "code",
      "metadata": {
        "id": "vj00kZ5nLfvM",
        "colab": {
          "base_uri": "https://localhost:8080/"
        },
        "outputId": "ba8fa9ec-6a6c-4e96-ad0f-76b3826e32f3"
      },
      "source": [
        "#Mengiris element list\n",
        "ATK=items[1:4]\n",
        "print(ATK)"
      ],
      "execution_count": null,
      "outputs": [
        {
          "output_type": "stream",
          "text": [
            "['Buku', 'Spidol', 'Penghapus']\n"
          ],
          "name": "stdout"
        }
      ]
    },
    {
      "cell_type": "markdown",
      "metadata": {
        "id": "wWvk2ulBQmKS"
      },
      "source": [
        "## Tuple"
      ]
    },
    {
      "cell_type": "markdown",
      "metadata": {
        "id": "RmbAnVjQMNwb"
      },
      "source": [
        "### *Tipe data tuple pada dasarnya sama dengan List, hanya saja tuple sifatnya immutable, artinya elemen tuple tidak bisa dirubah*. Untuk membuat tuple sama dengan list, tetapi tanda [ diganti dengan ( dan ] diganti dengan ) "
      ]
    },
    {
      "cell_type": "code",
      "metadata": {
        "id": "iB4TKrc3QRPp",
        "colab": {
          "base_uri": "https://localhost:8080/"
        },
        "outputId": "b69f3aa2-c4c8-4ca5-91d2-16ddc6546ff1"
      },
      "source": [
        "sex=('Laki-laki','Perempuan')\n",
        "print(sex)"
      ],
      "execution_count": null,
      "outputs": [
        {
          "output_type": "stream",
          "text": [
            "('Laki-laki', 'Perempuan')\n"
          ],
          "name": "stdout"
        }
      ]
    },
    {
      "cell_type": "markdown",
      "metadata": {
        "id": "tQK819JzNQBz"
      },
      "source": [
        "## Dictionary"
      ]
    },
    {
      "cell_type": "code",
      "metadata": {
        "id": "dxF13f6gKP4L",
        "colab": {
          "base_uri": "https://localhost:8080/"
        },
        "outputId": "517bb66b-6d77-4a63-bebd-55459300de8d"
      },
      "source": [
        "#Membuat dan mengakses Dictionary\n",
        "kamus={'kucing':'cat','tikus':'mouse','kelinci':'rabbit','ayam':'chicken'}\n",
        "print(\"Bahasa inggrisnya 'kucing' adalah '{}'\". format(kamus['kucing']))"
      ],
      "execution_count": null,
      "outputs": [
        {
          "output_type": "stream",
          "text": [
            "Bahasa inggrisnya 'kucing' adalah 'cat'\n"
          ],
          "name": "stdout"
        }
      ]
    },
    {
      "cell_type": "code",
      "metadata": {
        "id": "RR-zOhSvKP7e",
        "colab": {
          "base_uri": "https://localhost:8080/"
        },
        "outputId": "1fada7f0-a1bb-444a-918a-50eca44c3ecf"
      },
      "source": [
        "#Menampilkan semua elemen dan index dict\n",
        "for id, en in kamus.items():\n",
        "  print('{} adalah {}'.format(id,en))"
      ],
      "execution_count": null,
      "outputs": [
        {
          "output_type": "stream",
          "text": [
            "kucing adalah cat\n",
            "tikus adalah mouse\n",
            "kelinci adalah rabbit\n",
            "ayam adalah chicken\n"
          ],
          "name": "stdout"
        }
      ]
    },
    {
      "cell_type": "code",
      "metadata": {
        "id": "22T1shFNKP_5",
        "colab": {
          "base_uri": "https://localhost:8080/"
        },
        "outputId": "2592d098-c41d-4b97-a0a1-5f2f47c037cd"
      },
      "source": [
        "#Membuat data tabel dengan dict\n",
        "data_nilai={\n",
        "    'nama':['Dede','Dedi','Susi','Maryam','Idam','Santi'],\n",
        "    'nilai':[78,80,67,90,55,70],\n",
        "}\n",
        "r=zip(data_nilai['nama'],data_nilai['nilai'])\n",
        "r=list(r)\n",
        "r"
      ],
      "execution_count": null,
      "outputs": [
        {
          "output_type": "execute_result",
          "data": {
            "text/plain": [
              "[('Dede', 78),\n",
              " ('Dedi', 80),\n",
              " ('Susi', 67),\n",
              " ('Maryam', 90),\n",
              " ('Idam', 55),\n",
              " ('Santi', 70)]"
            ]
          },
          "metadata": {
            "tags": []
          },
          "execution_count": 111
        }
      ]
    },
    {
      "cell_type": "code",
      "metadata": {
        "id": "o5mghFq5KQCt",
        "colab": {
          "base_uri": "https://localhost:8080/"
        },
        "outputId": "87bf31f8-03e8-4d9c-9336-ca97aa19d10b"
      },
      "source": [
        "print('{:<10}{:<10}'. format('NAMA','NILAI'))\n",
        "for nama,nilai in r:\n",
        "  print('{:<10}{:<10}'.format(nama,nilai))"
      ],
      "execution_count": null,
      "outputs": [
        {
          "output_type": "stream",
          "text": [
            "NAMA      NILAI     \n",
            "Dede      78        \n",
            "Dedi      80        \n",
            "Susi      67        \n",
            "Maryam    90        \n",
            "Idam      55        \n",
            "Santi     70        \n"
          ],
          "name": "stdout"
        }
      ]
    },
    {
      "cell_type": "code",
      "metadata": {
        "id": "JZTxEPxTKQFE",
        "colab": {
          "base_uri": "https://localhost:8080/"
        },
        "outputId": "5cebc082-fd7e-4f55-e28c-7fda752390b8"
      },
      "source": [
        "#Menambah, Merubah dan Menghapus element dict\n",
        "data_nilai['nama'][0]='Billy' #Mengganti Dede dengan Billy\n",
        "data_nilai['nama'].append('Sinta') #Menambah elemen index nama dengan nilai Sinta\n",
        "data_nilai['nilai'].append(80)     #Menambah elemen index nilai dengan nilai 80\n",
        "print(data_nilai)"
      ],
      "execution_count": null,
      "outputs": [
        {
          "output_type": "stream",
          "text": [
            "{'nama': ['Billy', 'Dedi', 'Susi', 'Maryam', 'Idam', 'Santi', 'Sinta'], 'nilai': [78, 80, 67, 90, 55, 70, 80]}\n"
          ],
          "name": "stdout"
        }
      ]
    },
    {
      "cell_type": "markdown",
      "metadata": {
        "id": "CW2Rwk8XosSP"
      },
      "source": [
        "# III. Numpy (Numeric Python)"
      ]
    },
    {
      "cell_type": "code",
      "metadata": {
        "id": "wWilCpasKP-p",
        "colab": {
          "base_uri": "https://localhost:8080/"
        },
        "outputId": "3ba117ec-d7cc-4ea9-993b-e86892876560"
      },
      "source": [
        "##contoh penjumlahan dengan list dan array numpy\n",
        "a=[1,1,1]\n",
        "b=[2,2,2]\n",
        "c=a+b\n",
        "print(c) "
      ],
      "execution_count": 1,
      "outputs": [
        {
          "output_type": "stream",
          "text": [
            "[1, 1, 1, 2, 2, 2]\n"
          ],
          "name": "stdout"
        }
      ]
    },
    {
      "cell_type": "code",
      "metadata": {
        "id": "sShjbrqwD2VG",
        "colab": {
          "base_uri": "https://localhost:8080/"
        },
        "outputId": "e84cd384-5232-4174-93da-fd2c7783391f"
      },
      "source": [
        "#Membuat numpy array\n",
        "'''\n",
        "  np.array(list)\n",
        "  contoh :np.array([1,2,3,]) \n",
        "'''  \n",
        "import numpy as np\n",
        "x=np.array(a)\n",
        "y=np.array(b)\n",
        "z=x+y\n",
        "print(z)"
      ],
      "execution_count": 2,
      "outputs": [
        {
          "output_type": "stream",
          "text": [
            "[3 3 3]\n"
          ],
          "name": "stdout"
        }
      ]
    },
    {
      "cell_type": "code",
      "metadata": {
        "id": "by-6X0ShD2NT",
        "colab": {
          "base_uri": "https://localhost:8080/"
        },
        "outputId": "a345f0ba-7c64-40ff-8fe9-5c40c1e36a73"
      },
      "source": [
        "#Membuat numpy arra n dimensi\n",
        "mat33=np.array([[1,2,3],\n",
        "               [4,5,6],\n",
        "               [7,8,9]])\n",
        "mat33"
      ],
      "execution_count": 3,
      "outputs": [
        {
          "output_type": "execute_result",
          "data": {
            "text/plain": [
              "array([[1, 2, 3],\n",
              "       [4, 5, 6],\n",
              "       [7, 8, 9]])"
            ]
          },
          "metadata": {
            "tags": []
          },
          "execution_count": 3
        }
      ]
    },
    {
      "cell_type": "code",
      "metadata": {
        "id": "MrWhTIW8wY7R",
        "colab": {
          "base_uri": "https://localhost:8080/"
        },
        "outputId": "b6139fb2-ac38-47ff-8dc8-7bbfb578ed0a"
      },
      "source": [
        "#Generate bilangan \n",
        "x=np.arange(1,20,1) # arange(start,stop,step)\n",
        "y=np.linspace(1,10,5) # linspace(start,stop,jumlah_data)    \n",
        "y"
      ],
      "execution_count": 4,
      "outputs": [
        {
          "output_type": "execute_result",
          "data": {
            "text/plain": [
              "array([ 1.  ,  3.25,  5.5 ,  7.75, 10.  ])"
            ]
          },
          "metadata": {
            "tags": []
          },
          "execution_count": 4
        }
      ]
    },
    {
      "cell_type": "markdown",
      "metadata": {
        "id": "UikxWDwVxdDb"
      },
      "source": [
        "## Jenis bilangan random pada numpy \n",
        "\n",
        " "
      ]
    },
    {
      "cell_type": "code",
      "metadata": {
        "id": "Hbg0dXftynej"
      },
      "source": [
        "#buat state random, digunakan untuk nilai random nya sama\n",
        "rnd=np.random.RandomState(0)"
      ],
      "execution_count": 5,
      "outputs": []
    },
    {
      "cell_type": "code",
      "metadata": {
        "id": "ofVyY8_1uzTY",
        "colab": {
          "base_uri": "https://localhost:8080/"
        },
        "outputId": "63ca03b0-4518-4637-f9da-3d6c5d302988"
      },
      "source": [
        "#Bilangan random integer\n",
        "rnd=np.random.RandomState(0)\n",
        "x=rnd.randint(1,10,20) #random bilangan 1 sd 10 sebanyak 20 angka\n",
        "x"
      ],
      "execution_count": 6,
      "outputs": [
        {
          "output_type": "execute_result",
          "data": {
            "text/plain": [
              "array([6, 1, 4, 4, 8, 4, 6, 3, 5, 8, 7, 9, 9, 2, 7, 8, 8, 9, 2, 6])"
            ]
          },
          "metadata": {
            "tags": []
          },
          "execution_count": 6
        }
      ]
    },
    {
      "cell_type": "code",
      "metadata": {
        "id": "kGwMKbP7xbti",
        "colab": {
          "base_uri": "https://localhost:8080/"
        },
        "outputId": "0a28327f-31fa-4c79-f034-dbc65bff4778"
      },
      "source": [
        "#Bilangan random distribusi uniform (0 s/d 1)==> rand(d0,d1,..dn)\n",
        "x=rnd.rand(10) #random bilangan distribusi uniform  sebanyak 10 angka\n",
        "y=rnd.rand(3,2) ##random bilangan distribusi uniform sebanyak 3 baris 2 kolom (6 angka)\n",
        "y"
      ],
      "execution_count": 7,
      "outputs": [
        {
          "output_type": "execute_result",
          "data": {
            "text/plain": [
              "array([[0.67887953, 0.72063265],\n",
              "       [0.58201979, 0.53737323],\n",
              "       [0.75861562, 0.10590761]])"
            ]
          },
          "metadata": {
            "tags": []
          },
          "execution_count": 7
        }
      ]
    },
    {
      "cell_type": "code",
      "metadata": {
        "id": "0hQFCEHxu4Vr",
        "colab": {
          "base_uri": "https://localhost:8080/"
        },
        "outputId": "27a53526-c96e-4126-c521-1426d507a9a5"
      },
      "source": [
        "#Bilangan random distribusi normal(gaussian) (minus tak hingga s/d plus tak hingga)\n",
        "x=rnd.randn(10) #random bilangan random distribusi normal sebanyak 10 angka\n",
        "y=rnd.randn(3,2) ##random bilangan random distribusi normal sebanyak 3 baris 2 kolom (6 angka)\n",
        "y"
      ],
      "execution_count": 8,
      "outputs": [
        {
          "output_type": "execute_result",
          "data": {
            "text/plain": [
              "array([[ 2.16171737, -0.95693143],\n",
              "       [ 0.06731083,  0.20649884],\n",
              "       [-0.45688133, -1.05997576]])"
            ]
          },
          "metadata": {
            "tags": []
          },
          "execution_count": 8
        }
      ]
    },
    {
      "cell_type": "markdown",
      "metadata": {
        "id": "Xzbl3Y2933FX"
      },
      "source": [
        ""
      ]
    },
    {
      "cell_type": "markdown",
      "metadata": {
        "id": "OV5WF46D2qBY"
      },
      "source": [
        "### shape,reshape, indexing, slicing, argmax,argmin (next soon, insya allah) \n"
      ]
    },
    {
      "cell_type": "markdown",
      "metadata": {
        "id": "p_wBMYA74Gir"
      },
      "source": [
        "# IV. Pandas (Python for Data Analysis) "
      ]
    },
    {
      "cell_type": "markdown",
      "metadata": {
        "id": "4aORsczbZaPg"
      },
      "source": [
        "### DataSeries dan DataFrame"
      ]
    },
    {
      "cell_type": "code",
      "metadata": {
        "id": "sSXgwlZd4FBa"
      },
      "source": [
        "#import library pandas\n",
        "import pandas as pd\n",
        "\n",
        "dsn=np.array([1,2,3])\n",
        "dsp=pd.Series([1,2,3],index=['satu','dua','tiga'])"
      ],
      "execution_count": 10,
      "outputs": []
    },
    {
      "cell_type": "code",
      "metadata": {
        "id": "d4nEOZ5Zu4eL",
        "colab": {
          "base_uri": "https://localhost:8080/",
          "height": 142
        },
        "outputId": "c1c3e018-61bc-4621-b9e4-a00b059c7e07"
      },
      "source": [
        "#DataFrame \n",
        "'''\n",
        "pd.DataFrame(data,index,column)\n",
        "'''\n",
        "data=[1,2,3]\n",
        "index=['satu','dua','tiga']\n",
        "column=['angka']\n",
        "\n",
        "pd.DataFrame(data,index=index,columns=column)"
      ],
      "execution_count": 11,
      "outputs": [
        {
          "output_type": "execute_result",
          "data": {
            "text/html": [
              "<div>\n",
              "<style scoped>\n",
              "    .dataframe tbody tr th:only-of-type {\n",
              "        vertical-align: middle;\n",
              "    }\n",
              "\n",
              "    .dataframe tbody tr th {\n",
              "        vertical-align: top;\n",
              "    }\n",
              "\n",
              "    .dataframe thead th {\n",
              "        text-align: right;\n",
              "    }\n",
              "</style>\n",
              "<table border=\"1\" class=\"dataframe\">\n",
              "  <thead>\n",
              "    <tr style=\"text-align: right;\">\n",
              "      <th></th>\n",
              "      <th>angka</th>\n",
              "    </tr>\n",
              "  </thead>\n",
              "  <tbody>\n",
              "    <tr>\n",
              "      <th>satu</th>\n",
              "      <td>1</td>\n",
              "    </tr>\n",
              "    <tr>\n",
              "      <th>dua</th>\n",
              "      <td>2</td>\n",
              "    </tr>\n",
              "    <tr>\n",
              "      <th>tiga</th>\n",
              "      <td>3</td>\n",
              "    </tr>\n",
              "  </tbody>\n",
              "</table>\n",
              "</div>"
            ],
            "text/plain": [
              "      angka\n",
              "satu      1\n",
              "dua       2\n",
              "tiga      3"
            ]
          },
          "metadata": {
            "tags": []
          },
          "execution_count": 11
        }
      ]
    },
    {
      "cell_type": "code",
      "metadata": {
        "colab": {
          "base_uri": "https://localhost:8080/",
          "height": 419
        },
        "id": "csGVWwqnbkbE",
        "outputId": "8c2939e2-b532-4d23-9a56-734c7a8eb1e4"
      },
      "source": [
        "#DataFrame dengan type data dict\n",
        "data={\n",
        "    'lama_belajar':np.sort(rnd.rand(100)*4+1),\n",
        "    'nilai':np.sort(rnd.rand(100)*60+40)}\n",
        "df=pd.DataFrame(data)\n",
        "df"
      ],
      "execution_count": 58,
      "outputs": [
        {
          "output_type": "execute_result",
          "data": {
            "text/html": [
              "<div>\n",
              "<style scoped>\n",
              "    .dataframe tbody tr th:only-of-type {\n",
              "        vertical-align: middle;\n",
              "    }\n",
              "\n",
              "    .dataframe tbody tr th {\n",
              "        vertical-align: top;\n",
              "    }\n",
              "\n",
              "    .dataframe thead th {\n",
              "        text-align: right;\n",
              "    }\n",
              "</style>\n",
              "<table border=\"1\" class=\"dataframe\">\n",
              "  <thead>\n",
              "    <tr style=\"text-align: right;\">\n",
              "      <th></th>\n",
              "      <th>lama_belajar</th>\n",
              "      <th>nilai</th>\n",
              "    </tr>\n",
              "  </thead>\n",
              "  <tbody>\n",
              "    <tr>\n",
              "      <th>0</th>\n",
              "      <td>1.077067</td>\n",
              "      <td>40.417530</td>\n",
              "    </tr>\n",
              "    <tr>\n",
              "      <th>1</th>\n",
              "      <td>1.127096</td>\n",
              "      <td>41.883885</td>\n",
              "    </tr>\n",
              "    <tr>\n",
              "      <th>2</th>\n",
              "      <td>1.149752</td>\n",
              "      <td>43.028363</td>\n",
              "    </tr>\n",
              "    <tr>\n",
              "      <th>3</th>\n",
              "      <td>1.151852</td>\n",
              "      <td>43.217055</td>\n",
              "    </tr>\n",
              "    <tr>\n",
              "      <th>4</th>\n",
              "      <td>1.164808</td>\n",
              "      <td>43.392128</td>\n",
              "    </tr>\n",
              "    <tr>\n",
              "      <th>...</th>\n",
              "      <td>...</td>\n",
              "      <td>...</td>\n",
              "    </tr>\n",
              "    <tr>\n",
              "      <th>95</th>\n",
              "      <td>4.831159</td>\n",
              "      <td>97.940041</td>\n",
              "    </tr>\n",
              "    <tr>\n",
              "      <th>96</th>\n",
              "      <td>4.873741</td>\n",
              "      <td>98.324715</td>\n",
              "    </tr>\n",
              "    <tr>\n",
              "      <th>97</th>\n",
              "      <td>4.883759</td>\n",
              "      <td>99.194997</td>\n",
              "    </tr>\n",
              "    <tr>\n",
              "      <th>98</th>\n",
              "      <td>4.920010</td>\n",
              "      <td>99.465449</td>\n",
              "    </tr>\n",
              "    <tr>\n",
              "      <th>99</th>\n",
              "      <td>4.993218</td>\n",
              "      <td>99.525464</td>\n",
              "    </tr>\n",
              "  </tbody>\n",
              "</table>\n",
              "<p>100 rows × 2 columns</p>\n",
              "</div>"
            ],
            "text/plain": [
              "    lama_belajar      nilai\n",
              "0       1.077067  40.417530\n",
              "1       1.127096  41.883885\n",
              "2       1.149752  43.028363\n",
              "3       1.151852  43.217055\n",
              "4       1.164808  43.392128\n",
              "..           ...        ...\n",
              "95      4.831159  97.940041\n",
              "96      4.873741  98.324715\n",
              "97      4.883759  99.194997\n",
              "98      4.920010  99.465449\n",
              "99      4.993218  99.525464\n",
              "\n",
              "[100 rows x 2 columns]"
            ]
          },
          "metadata": {
            "tags": []
          },
          "execution_count": 58
        }
      ]
    },
    {
      "cell_type": "code",
      "metadata": {
        "colab": {
          "base_uri": "https://localhost:8080/",
          "height": 419
        },
        "id": "8DCDBAuLeBQn",
        "outputId": "a19ef544-ff7b-44b0-914a-66c47fc2082c"
      },
      "source": [
        "#Menambah kolom baru\n",
        "df['xy']=df['lama_belajar']*df['nilai'] #bisa juga df.lama_belajar*df.nilai\n",
        "df['x2']=df['lama_belajar']**2      #bisa juga df.lama_belajar**2\n",
        "df"
      ],
      "execution_count": 59,
      "outputs": [
        {
          "output_type": "execute_result",
          "data": {
            "text/html": [
              "<div>\n",
              "<style scoped>\n",
              "    .dataframe tbody tr th:only-of-type {\n",
              "        vertical-align: middle;\n",
              "    }\n",
              "\n",
              "    .dataframe tbody tr th {\n",
              "        vertical-align: top;\n",
              "    }\n",
              "\n",
              "    .dataframe thead th {\n",
              "        text-align: right;\n",
              "    }\n",
              "</style>\n",
              "<table border=\"1\" class=\"dataframe\">\n",
              "  <thead>\n",
              "    <tr style=\"text-align: right;\">\n",
              "      <th></th>\n",
              "      <th>lama_belajar</th>\n",
              "      <th>nilai</th>\n",
              "      <th>xy</th>\n",
              "      <th>x2</th>\n",
              "    </tr>\n",
              "  </thead>\n",
              "  <tbody>\n",
              "    <tr>\n",
              "      <th>0</th>\n",
              "      <td>1.077067</td>\n",
              "      <td>40.417530</td>\n",
              "      <td>43.532371</td>\n",
              "      <td>1.160072</td>\n",
              "    </tr>\n",
              "    <tr>\n",
              "      <th>1</th>\n",
              "      <td>1.127096</td>\n",
              "      <td>41.883885</td>\n",
              "      <td>47.207180</td>\n",
              "      <td>1.270347</td>\n",
              "    </tr>\n",
              "    <tr>\n",
              "      <th>2</th>\n",
              "      <td>1.149752</td>\n",
              "      <td>43.028363</td>\n",
              "      <td>49.471963</td>\n",
              "      <td>1.321931</td>\n",
              "    </tr>\n",
              "    <tr>\n",
              "      <th>3</th>\n",
              "      <td>1.151852</td>\n",
              "      <td>43.217055</td>\n",
              "      <td>49.779664</td>\n",
              "      <td>1.326764</td>\n",
              "    </tr>\n",
              "    <tr>\n",
              "      <th>4</th>\n",
              "      <td>1.164808</td>\n",
              "      <td>43.392128</td>\n",
              "      <td>50.543517</td>\n",
              "      <td>1.356779</td>\n",
              "    </tr>\n",
              "    <tr>\n",
              "      <th>...</th>\n",
              "      <td>...</td>\n",
              "      <td>...</td>\n",
              "      <td>...</td>\n",
              "      <td>...</td>\n",
              "    </tr>\n",
              "    <tr>\n",
              "      <th>95</th>\n",
              "      <td>4.831159</td>\n",
              "      <td>97.940041</td>\n",
              "      <td>473.163879</td>\n",
              "      <td>23.340094</td>\n",
              "    </tr>\n",
              "    <tr>\n",
              "      <th>96</th>\n",
              "      <td>4.873741</td>\n",
              "      <td>98.324715</td>\n",
              "      <td>479.209214</td>\n",
              "      <td>23.753353</td>\n",
              "    </tr>\n",
              "    <tr>\n",
              "      <th>97</th>\n",
              "      <td>4.883759</td>\n",
              "      <td>99.194997</td>\n",
              "      <td>484.444439</td>\n",
              "      <td>23.851100</td>\n",
              "    </tr>\n",
              "    <tr>\n",
              "      <th>98</th>\n",
              "      <td>4.920010</td>\n",
              "      <td>99.465449</td>\n",
              "      <td>489.370991</td>\n",
              "      <td>24.206497</td>\n",
              "    </tr>\n",
              "    <tr>\n",
              "      <th>99</th>\n",
              "      <td>4.993218</td>\n",
              "      <td>99.525464</td>\n",
              "      <td>496.952318</td>\n",
              "      <td>24.932224</td>\n",
              "    </tr>\n",
              "  </tbody>\n",
              "</table>\n",
              "<p>100 rows × 4 columns</p>\n",
              "</div>"
            ],
            "text/plain": [
              "    lama_belajar      nilai          xy         x2\n",
              "0       1.077067  40.417530   43.532371   1.160072\n",
              "1       1.127096  41.883885   47.207180   1.270347\n",
              "2       1.149752  43.028363   49.471963   1.321931\n",
              "3       1.151852  43.217055   49.779664   1.326764\n",
              "4       1.164808  43.392128   50.543517   1.356779\n",
              "..           ...        ...         ...        ...\n",
              "95      4.831159  97.940041  473.163879  23.340094\n",
              "96      4.873741  98.324715  479.209214  23.753353\n",
              "97      4.883759  99.194997  484.444439  23.851100\n",
              "98      4.920010  99.465449  489.370991  24.206497\n",
              "99      4.993218  99.525464  496.952318  24.932224\n",
              "\n",
              "[100 rows x 4 columns]"
            ]
          },
          "metadata": {
            "tags": []
          },
          "execution_count": 59
        }
      ]
    },
    {
      "cell_type": "code",
      "metadata": {
        "colab": {
          "base_uri": "https://localhost:8080/"
        },
        "id": "zk8D7sgbcPmi",
        "outputId": "0eace7bc-030e-4d30-beef-a97661d1cc77"
      },
      "source": [
        "#Akses Data kolom\n",
        "x=df['lama_belajar'] # atau df.lama_belajar\n",
        "x"
      ],
      "execution_count": 41,
      "outputs": [
        {
          "output_type": "execute_result",
          "data": {
            "text/plain": [
              "0     0.020751\n",
              "1     0.057884\n",
              "2     0.059269\n",
              "3     0.127227\n",
              "4     0.149378\n",
              "        ...   \n",
              "95    4.877241\n",
              "96    4.914686\n",
              "97    4.929861\n",
              "98    4.965585\n",
              "99    4.982407\n",
              "Name: lama_belajar, Length: 100, dtype: float64"
            ]
          },
          "metadata": {
            "tags": []
          },
          "execution_count": 41
        }
      ]
    },
    {
      "cell_type": "code",
      "metadata": {
        "colab": {
          "base_uri": "https://localhost:8080/",
          "height": 419
        },
        "id": "trz-53Udc0sf",
        "outputId": "d26e2564-02f4-45ce-d26e-e1482ee74183"
      },
      "source": [
        "#Akses beberapa Data kolom\n",
        "cols=df[['lama_belajar','nilai']]\n",
        "cols"
      ],
      "execution_count": 42,
      "outputs": [
        {
          "output_type": "execute_result",
          "data": {
            "text/html": [
              "<div>\n",
              "<style scoped>\n",
              "    .dataframe tbody tr th:only-of-type {\n",
              "        vertical-align: middle;\n",
              "    }\n",
              "\n",
              "    .dataframe tbody tr th {\n",
              "        vertical-align: top;\n",
              "    }\n",
              "\n",
              "    .dataframe thead th {\n",
              "        text-align: right;\n",
              "    }\n",
              "</style>\n",
              "<table border=\"1\" class=\"dataframe\">\n",
              "  <thead>\n",
              "    <tr style=\"text-align: right;\">\n",
              "      <th></th>\n",
              "      <th>lama_belajar</th>\n",
              "      <th>nilai</th>\n",
              "    </tr>\n",
              "  </thead>\n",
              "  <tbody>\n",
              "    <tr>\n",
              "      <th>0</th>\n",
              "      <td>0.020751</td>\n",
              "      <td>40</td>\n",
              "    </tr>\n",
              "    <tr>\n",
              "      <th>1</th>\n",
              "      <td>0.057884</td>\n",
              "      <td>41</td>\n",
              "    </tr>\n",
              "    <tr>\n",
              "      <th>2</th>\n",
              "      <td>0.059269</td>\n",
              "      <td>41</td>\n",
              "    </tr>\n",
              "    <tr>\n",
              "      <th>3</th>\n",
              "      <td>0.127227</td>\n",
              "      <td>41</td>\n",
              "    </tr>\n",
              "    <tr>\n",
              "      <th>4</th>\n",
              "      <td>0.149378</td>\n",
              "      <td>44</td>\n",
              "    </tr>\n",
              "    <tr>\n",
              "      <th>...</th>\n",
              "      <td>...</td>\n",
              "      <td>...</td>\n",
              "    </tr>\n",
              "    <tr>\n",
              "      <th>95</th>\n",
              "      <td>4.877241</td>\n",
              "      <td>96</td>\n",
              "    </tr>\n",
              "    <tr>\n",
              "      <th>96</th>\n",
              "      <td>4.914686</td>\n",
              "      <td>96</td>\n",
              "    </tr>\n",
              "    <tr>\n",
              "      <th>97</th>\n",
              "      <td>4.929861</td>\n",
              "      <td>96</td>\n",
              "    </tr>\n",
              "    <tr>\n",
              "      <th>98</th>\n",
              "      <td>4.965585</td>\n",
              "      <td>98</td>\n",
              "    </tr>\n",
              "    <tr>\n",
              "      <th>99</th>\n",
              "      <td>4.982407</td>\n",
              "      <td>98</td>\n",
              "    </tr>\n",
              "  </tbody>\n",
              "</table>\n",
              "<p>100 rows × 2 columns</p>\n",
              "</div>"
            ],
            "text/plain": [
              "    lama_belajar  nilai\n",
              "0       0.020751     40\n",
              "1       0.057884     41\n",
              "2       0.059269     41\n",
              "3       0.127227     41\n",
              "4       0.149378     44\n",
              "..           ...    ...\n",
              "95      4.877241     96\n",
              "96      4.914686     96\n",
              "97      4.929861     96\n",
              "98      4.965585     98\n",
              "99      4.982407     98\n",
              "\n",
              "[100 rows x 2 columns]"
            ]
          },
          "metadata": {
            "tags": []
          },
          "execution_count": 42
        }
      ]
    },
    {
      "cell_type": "code",
      "metadata": {
        "colab": {
          "base_uri": "https://localhost:8080/",
          "height": 297
        },
        "id": "dabJhZ6MlGux",
        "outputId": "8f2b7431-754a-4679-c1bf-9892dc6c1140"
      },
      "source": [
        "#DataFrame describe,info,shape,head,tail\n",
        "df.describe()"
      ],
      "execution_count": 69,
      "outputs": [
        {
          "output_type": "execute_result",
          "data": {
            "text/html": [
              "<div>\n",
              "<style scoped>\n",
              "    .dataframe tbody tr th:only-of-type {\n",
              "        vertical-align: middle;\n",
              "    }\n",
              "\n",
              "    .dataframe tbody tr th {\n",
              "        vertical-align: top;\n",
              "    }\n",
              "\n",
              "    .dataframe thead th {\n",
              "        text-align: right;\n",
              "    }\n",
              "</style>\n",
              "<table border=\"1\" class=\"dataframe\">\n",
              "  <thead>\n",
              "    <tr style=\"text-align: right;\">\n",
              "      <th></th>\n",
              "      <th>lama_belajar</th>\n",
              "      <th>nilai</th>\n",
              "      <th>xy</th>\n",
              "      <th>x2</th>\n",
              "    </tr>\n",
              "  </thead>\n",
              "  <tbody>\n",
              "    <tr>\n",
              "      <th>count</th>\n",
              "      <td>100.000000</td>\n",
              "      <td>100.000000</td>\n",
              "      <td>100.000000</td>\n",
              "      <td>100.000000</td>\n",
              "    </tr>\n",
              "    <tr>\n",
              "      <th>mean</th>\n",
              "      <td>2.970211</td>\n",
              "      <td>72.611330</td>\n",
              "      <td>236.663717</td>\n",
              "      <td>10.289188</td>\n",
              "    </tr>\n",
              "    <tr>\n",
              "      <th>std</th>\n",
              "      <td>1.217314</td>\n",
              "      <td>17.514934</td>\n",
              "      <td>140.301004</td>\n",
              "      <td>7.258833</td>\n",
              "    </tr>\n",
              "    <tr>\n",
              "      <th>min</th>\n",
              "      <td>1.077067</td>\n",
              "      <td>40.417530</td>\n",
              "      <td>43.532371</td>\n",
              "      <td>1.160072</td>\n",
              "    </tr>\n",
              "    <tr>\n",
              "      <th>25%</th>\n",
              "      <td>1.786316</td>\n",
              "      <td>56.491406</td>\n",
              "      <td>100.920981</td>\n",
              "      <td>3.191328</td>\n",
              "    </tr>\n",
              "    <tr>\n",
              "      <th>50%</th>\n",
              "      <td>3.136371</td>\n",
              "      <td>72.307970</td>\n",
              "      <td>226.795085</td>\n",
              "      <td>9.838371</td>\n",
              "    </tr>\n",
              "    <tr>\n",
              "      <th>75%</th>\n",
              "      <td>3.921623</td>\n",
              "      <td>89.298099</td>\n",
              "      <td>350.193531</td>\n",
              "      <td>15.379164</td>\n",
              "    </tr>\n",
              "    <tr>\n",
              "      <th>max</th>\n",
              "      <td>4.993218</td>\n",
              "      <td>99.525464</td>\n",
              "      <td>496.952318</td>\n",
              "      <td>24.932224</td>\n",
              "    </tr>\n",
              "  </tbody>\n",
              "</table>\n",
              "</div>"
            ],
            "text/plain": [
              "       lama_belajar       nilai          xy          x2\n",
              "count    100.000000  100.000000  100.000000  100.000000\n",
              "mean       2.970211   72.611330  236.663717   10.289188\n",
              "std        1.217314   17.514934  140.301004    7.258833\n",
              "min        1.077067   40.417530   43.532371    1.160072\n",
              "25%        1.786316   56.491406  100.920981    3.191328\n",
              "50%        3.136371   72.307970  226.795085    9.838371\n",
              "75%        3.921623   89.298099  350.193531   15.379164\n",
              "max        4.993218   99.525464  496.952318   24.932224"
            ]
          },
          "metadata": {
            "tags": []
          },
          "execution_count": 69
        }
      ]
    },
    {
      "cell_type": "code",
      "metadata": {
        "colab": {
          "base_uri": "https://localhost:8080/"
        },
        "id": "nvwbrMP9nqXT",
        "outputId": "8d7b7673-7217-4236-bacb-9d27f0781a7e"
      },
      "source": [
        "df.info()"
      ],
      "execution_count": 17,
      "outputs": [
        {
          "output_type": "stream",
          "text": [
            "<class 'pandas.core.frame.DataFrame'>\n",
            "RangeIndex: 100 entries, 0 to 99\n",
            "Data columns (total 4 columns):\n",
            " #   Column        Non-Null Count  Dtype\n",
            "---  ------        --------------  -----\n",
            " 0   lama_belajar  100 non-null    int64\n",
            " 1   nilai         100 non-null    int64\n",
            " 2   xy            100 non-null    int64\n",
            " 3   x2            100 non-null    int64\n",
            "dtypes: int64(4)\n",
            "memory usage: 3.2 KB\n"
          ],
          "name": "stdout"
        }
      ]
    },
    {
      "cell_type": "markdown",
      "metadata": {
        "id": "0uPQGd9OoMJv"
      },
      "source": [
        "# V. Matplotlib "
      ]
    },
    {
      "cell_type": "code",
      "metadata": {
        "id": "2z_4__5PpbXp",
        "colab": {
          "base_uri": "https://localhost:8080/",
          "height": 313
        },
        "outputId": "202692a2-368f-40eb-cf9c-da1182af3522"
      },
      "source": [
        "import matplotlib.pyplot as plt\n",
        "\n",
        "#Membuat plot garis\n",
        "plt.title('Grafik xy')\n",
        "plt.xlabel('lama_belajar')\n",
        "plt.ylabel('nilai')\n",
        "plt.plot(df['lama_belajar'],df['nilai'])"
      ],
      "execution_count": 60,
      "outputs": [
        {
          "output_type": "execute_result",
          "data": {
            "text/plain": [
              "[<matplotlib.lines.Line2D at 0x7f849d24e438>]"
            ]
          },
          "metadata": {
            "tags": []
          },
          "execution_count": 60
        },
        {
          "output_type": "display_data",
          "data": {
            "image/png": "[encoded data removed]",
            "text/plain": [
              "<Figure size 432x288 with 1 Axes>"
            ]
          },
          "metadata": {
            "tags": [],
            "needs_background": "light"
          }
        }
      ]
    },
    {
      "cell_type": "code",
      "metadata": {
        "colab": {
          "base_uri": "https://localhost:8080/",
          "height": 405
        },
        "id": "hvcfOkWTs1Px",
        "outputId": "68ffebdc-8827-4bcd-9ba8-e544530e14eb"
      },
      "source": [
        "#Membuat scatter\n",
        "plt.figure(figsize=(10,6))\n",
        "plt.title('Grafik Data')\n",
        "plt.xlabel('lama_belajar')\n",
        "plt.ylabel('nilai')\n",
        "plt.scatter(df['lama_belajar'],df['nilai'], c='green', label='Lama Belajar', marker='>')\n",
        "plt.legend();"
      ],
      "execution_count": 75,
      "outputs": [
        {
          "output_type": "display_data",
          "data": {
            "image/png": "[encoded data removed]",
            "text/plain": [
              "<Figure size 720x432 with 1 Axes>"
            ]
          },
          "metadata": {
            "tags": [],
            "needs_background": "light"
          }
        }
      ]
    },
    {
      "cell_type": "code",
      "metadata": {
        "id": "m0TWSPHJMMMR"
      },
      "source": [
        "##Subplot (next time insya allah)"
      ],
      "execution_count": null,
      "outputs": []
    },
    {
      "cell_type": "markdown",
      "metadata": {
        "id": "TWlWD5hfRLln"
      },
      "source": [
        "# VI. Penyelesaian Simple Linear Regression "
      ]
    },
    {
      "cell_type": "markdown",
      "metadata": {
        "id": "XZNoXIF2RbGz"
      },
      "source": [
        "## SLR dengan perhitungan manual\n",
        "![slr.PNG](data:image/png;base64,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)"
      ]
    },
    {
      "cell_type": "code",
      "metadata": {
        "colab": {
          "base_uri": "https://localhost:8080/",
          "height": 111
        },
        "id": "mWUgUw5-SGQF",
        "outputId": "c5a3e91f-b828-4555-ba88-c99a527ce0ea"
      },
      "source": [
        "#Masih menggunakan data lama belajar dan nilai\n",
        "df.head(2)"
      ],
      "execution_count": 80,
      "outputs": [
        {
          "output_type": "execute_result",
          "data": {
            "text/html": [
              "<div>\n",
              "<style scoped>\n",
              "    .dataframe tbody tr th:only-of-type {\n",
              "        vertical-align: middle;\n",
              "    }\n",
              "\n",
              "    .dataframe tbody tr th {\n",
              "        vertical-align: top;\n",
              "    }\n",
              "\n",
              "    .dataframe thead th {\n",
              "        text-align: right;\n",
              "    }\n",
              "</style>\n",
              "<table border=\"1\" class=\"dataframe\">\n",
              "  <thead>\n",
              "    <tr style=\"text-align: right;\">\n",
              "      <th></th>\n",
              "      <th>lama_belajar</th>\n",
              "      <th>nilai</th>\n",
              "      <th>xy</th>\n",
              "      <th>x2</th>\n",
              "    </tr>\n",
              "  </thead>\n",
              "  <tbody>\n",
              "    <tr>\n",
              "      <th>0</th>\n",
              "      <td>1.077067</td>\n",
              "      <td>40.417530</td>\n",
              "      <td>43.532371</td>\n",
              "      <td>1.160072</td>\n",
              "    </tr>\n",
              "    <tr>\n",
              "      <th>1</th>\n",
              "      <td>1.127096</td>\n",
              "      <td>41.883885</td>\n",
              "      <td>47.207180</td>\n",
              "      <td>1.270347</td>\n",
              "    </tr>\n",
              "  </tbody>\n",
              "</table>\n",
              "</div>"
            ],
            "text/plain": [
              "   lama_belajar      nilai         xy        x2\n",
              "0      1.077067  40.417530  43.532371  1.160072\n",
              "1      1.127096  41.883885  47.207180  1.270347"
            ]
          },
          "metadata": {
            "tags": []
          },
          "execution_count": 80
        }
      ]
    },
    {
      "cell_type": "code",
      "metadata": {
        "colab": {
          "base_uri": "https://localhost:8080/"
        },
        "id": "KshjbrGoSruB",
        "outputId": "ce7b6b87-bd37-415e-eec4-458cb1b32ea2"
      },
      "source": [
        "#hitung gradient (m)\n",
        "m=((n*df.xy.sum())-(df.lama_belajar.sum()*df.nilai.sum()))/((n*df.x2.sum())-(df.lama_belajar.sum()**2))\n",
        "m"
      ],
      "execution_count": 83,
      "outputs": [
        {
          "output_type": "execute_result",
          "data": {
            "text/plain": [
              "14.30964358623745"
            ]
          },
          "metadata": {
            "tags": []
          },
          "execution_count": 83
        }
      ]
    },
    {
      "cell_type": "code",
      "metadata": {
        "colab": {
          "base_uri": "https://localhost:8080/"
        },
        "id": "l7hqapb_T4GM",
        "outputId": "90fa7ab9-c110-4832-a6e4-198160bdb09a"
      },
      "source": [
        "#hitung konstanta (c)\n",
        "c=((df.nilai.sum()*df.x2.sum())-(df.lama_belajar.sum()*df.xy.sum()))/((n*df.x2.sum())-(df.lama_belajar.sum()**2))\n",
        "c"
      ],
      "execution_count": 85,
      "outputs": [
        {
          "output_type": "execute_result",
          "data": {
            "text/plain": [
              "30.108669300477597"
            ]
          },
          "metadata": {
            "tags": []
          },
          "execution_count": 85
        }
      ]
    },
    {
      "cell_type": "code",
      "metadata": {
        "colab": {
          "base_uri": "https://localhost:8080/",
          "height": 514
        },
        "id": "GVz_F2i1VDkD",
        "outputId": "bfb5fe41-432f-421f-d309-afa5358eda6f"
      },
      "source": [
        "#Didapatkan persamaan linearnya adalah\n",
        "# y=14.30x + 30.10\n",
        "#Visualisasikan dalam bentuk grafik data training\n",
        "\n",
        "plt.figure(figsize=(10,8))\n",
        "plt.title('Grafik Data dan Garis model')\n",
        "plt.xlabel('lama_belajar')\n",
        "plt.ylabel('nilai')\n",
        "plt.scatter(df['lama_belajar'],df['nilai'], c='green', label='Nilai', marker='>')\n",
        "plt.plot(df['lama_belajar'],m*df['lama_belajar']+c, c='red', label='Model')\n",
        "plt.legend();"
      ],
      "execution_count": 88,
      "outputs": [
        {
          "output_type": "display_data",
          "data": {
            "image/png": "[encoded data removed]",
            "text/plain": [
              "<Figure size 720x576 with 1 Axes>"
            ]
          },
          "metadata": {
            "tags": [],
            "needs_background": "light"
          }
        }
      ]
    },
    {
      "cell_type": "markdown",
      "metadata": {
        "id": "A8jfPgm_WbfA"
      },
      "source": [
        "##SLR dengan perhitungan Library scikit-learn"
      ]
    },
    {
      "cell_type": "code",
      "metadata": {
        "colab": {
          "base_uri": "https://localhost:8080/"
        },
        "id": "1fIpZWs6WWXV",
        "outputId": "1ce08b3c-ab88-43ea-d22f-5ff4e181c40b"
      },
      "source": [
        "from sklearn.linear_model import LinearRegression\n",
        "slr=LinearRegression()\n",
        "slr.fit(df[['lama_belajar']], df['nilai'])"
      ],
      "execution_count": 90,
      "outputs": [
        {
          "output_type": "execute_result",
          "data": {
            "text/plain": [
              "LinearRegression(copy_X=True, fit_intercept=True, n_jobs=None, normalize=False)"
            ]
          },
          "metadata": {
            "tags": []
          },
          "execution_count": 90
        }
      ]
    },
    {
      "cell_type": "code",
      "metadata": {
        "colab": {
          "base_uri": "https://localhost:8080/"
        },
        "id": "KDLBWmCBW7MH",
        "outputId": "7f9ff963-f1a4-478d-de4c-8219b707f987"
      },
      "source": [
        "#Cek nilai m(coefisien)  dan c (intercept)\n",
        "m,c=slr.coef_ , slr.intercept_ \n",
        "m,c "
      ],
      "execution_count": 93,
      "outputs": [
        {
          "output_type": "execute_result",
          "data": {
            "text/plain": [
              "(array([14.30964359]), 30.108669300477644)"
            ]
          },
          "metadata": {
            "tags": []
          },
          "execution_count": 93
        }
      ]
    },
    {
      "cell_type": "markdown",
      "metadata": {
        "id": "BYN9yHgZXrKP"
      },
      "source": [
        "## Contoh kasus pemodelan untuk dataset Headbrain https://www.kaggle.com/jemishdonda/headbrain\n"
      ]
    },
    {
      "cell_type": "code",
      "metadata": {
        "colab": {
          "base_uri": "https://localhost:8080/",
          "height": 419
        },
        "id": "fmyZ0KCbXkQk",
        "outputId": "ec3efbce-2f43-4f6c-ba15-1be6a40201eb"
      },
      "source": [
        "headbrain=pd.read_csv('headbrain.csv')\n",
        "headbrain"
      ],
      "execution_count": 94,
      "outputs": [
        {
          "output_type": "execute_result",
          "data": {
            "text/html": [
              "<div>\n",
              "<style scoped>\n",
              "    .dataframe tbody tr th:only-of-type {\n",
              "        vertical-align: middle;\n",
              "    }\n",
              "\n",
              "    .dataframe tbody tr th {\n",
              "        vertical-align: top;\n",
              "    }\n",
              "\n",
              "    .dataframe thead th {\n",
              "        text-align: right;\n",
              "    }\n",
              "</style>\n",
              "<table border=\"1\" class=\"dataframe\">\n",
              "  <thead>\n",
              "    <tr style=\"text-align: right;\">\n",
              "      <th></th>\n",
              "      <th>Gender</th>\n",
              "      <th>Age Range</th>\n",
              "      <th>Head Size(cm^3)</th>\n",
              "      <th>Brain Weight(grams)</th>\n",
              "    </tr>\n",
              "  </thead>\n",
              "  <tbody>\n",
              "    <tr>\n",
              "      <th>0</th>\n",
              "      <td>1</td>\n",
              "      <td>1</td>\n",
              "      <td>4512</td>\n",
              "      <td>1530</td>\n",
              "    </tr>\n",
              "    <tr>\n",
              "      <th>1</th>\n",
              "      <td>1</td>\n",
              "      <td>1</td>\n",
              "      <td>3738</td>\n",
              "      <td>1297</td>\n",
              "    </tr>\n",
              "    <tr>\n",
              "      <th>2</th>\n",
              "      <td>1</td>\n",
              "      <td>1</td>\n",
              "      <td>4261</td>\n",
              "      <td>1335</td>\n",
              "    </tr>\n",
              "    <tr>\n",
              "      <th>3</th>\n",
              "      <td>1</td>\n",
              "      <td>1</td>\n",
              "      <td>3777</td>\n",
              "      <td>1282</td>\n",
              "    </tr>\n",
              "    <tr>\n",
              "      <th>4</th>\n",
              "      <td>1</td>\n",
              "      <td>1</td>\n",
              "      <td>4177</td>\n",
              "      <td>1590</td>\n",
              "    </tr>\n",
              "    <tr>\n",
              "      <th>...</th>\n",
              "      <td>...</td>\n",
              "      <td>...</td>\n",
              "      <td>...</td>\n",
              "      <td>...</td>\n",
              "    </tr>\n",
              "    <tr>\n",
              "      <th>232</th>\n",
              "      <td>2</td>\n",
              "      <td>2</td>\n",
              "      <td>3214</td>\n",
              "      <td>1110</td>\n",
              "    </tr>\n",
              "    <tr>\n",
              "      <th>233</th>\n",
              "      <td>2</td>\n",
              "      <td>2</td>\n",
              "      <td>3394</td>\n",
              "      <td>1215</td>\n",
              "    </tr>\n",
              "    <tr>\n",
              "      <th>234</th>\n",
              "      <td>2</td>\n",
              "      <td>2</td>\n",
              "      <td>3233</td>\n",
              "      <td>1104</td>\n",
              "    </tr>\n",
              "    <tr>\n",
              "      <th>235</th>\n",
              "      <td>2</td>\n",
              "      <td>2</td>\n",
              "      <td>3352</td>\n",
              "      <td>1170</td>\n",
              "    </tr>\n",
              "    <tr>\n",
              "      <th>236</th>\n",
              "      <td>2</td>\n",
              "      <td>2</td>\n",
              "      <td>3391</td>\n",
              "      <td>1120</td>\n",
              "    </tr>\n",
              "  </tbody>\n",
              "</table>\n",
              "<p>237 rows × 4 columns</p>\n",
              "</div>"
            ],
            "text/plain": [
              "     Gender  Age Range  Head Size(cm^3)  Brain Weight(grams)\n",
              "0         1          1             4512                 1530\n",
              "1         1          1             3738                 1297\n",
              "2         1          1             4261                 1335\n",
              "3         1          1             3777                 1282\n",
              "4         1          1             4177                 1590\n",
              "..      ...        ...              ...                  ...\n",
              "232       2          2             3214                 1110\n",
              "233       2          2             3394                 1215\n",
              "234       2          2             3233                 1104\n",
              "235       2          2             3352                 1170\n",
              "236       2          2             3391                 1120\n",
              "\n",
              "[237 rows x 4 columns]"
            ]
          },
          "metadata": {
            "tags": []
          },
          "execution_count": 94
        }
      ]
    }
  ]
}