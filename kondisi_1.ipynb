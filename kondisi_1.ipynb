{
  "nbformat": 4,
  "nbformat_minor": 0,
  "metadata": {
    "colab": {
      "name": "kondisi_1.ipynb",
      "provenance": [],
      "authorship_tag": "ABX9TyMmRbRAdu7L0GLej9rmn/kV",
      "include_colab_link": true
    },
    "kernelspec": {
      "name": "python3",
      "display_name": "Python 3"
    },
    "language_info": {
      "name": "python"
    }
  },
  "cells": [
    {
      "cell_type": "markdown",
      "metadata": {
        "id": "view-in-github",
        "colab_type": "text"
      },
      "source": [
        "<a href=\"https://colab.research.google.com/github/asepmuhidin/workshop221120/blob/main/kondisi_1.ipynb\" target=\"_parent\"><img src=\"https://colab.research.google.com/assets/colab-badge.svg\" alt=\"Open In Colab\"/></a>"
      ]
    },
    {
      "cell_type": "code",
      "metadata": {
        "colab": {
          "base_uri": "https://localhost:8080/"
        },
        "id": "LfwqHLNZNu0v",
        "outputId": "f0ca1408-5080-4325-cde6-f4dec62fd2c3"
      },
      "source": [
        "umur=33\n",
        "if umur>=18:\n",
        "  print(\"Kamu  berhak memiliki SIM\")\n",
        "else:\n",
        "  print(\"Kamu belum berhak memiliki SIM\")   "
      ],
      "execution_count": 3,
      "outputs": [
        {
          "output_type": "stream",
          "name": "stdout",
          "text": [
            "Kamu  berhak memiliki SIM\n"
          ]
        }
      ]
    },
    {
      "cell_type": "code",
      "metadata": {
        "id": "Zt2om3Z7P4tV",
        "outputId": "1f8b1bf8-708a-4410-d00c-3a09f35e65b7",
        "colab": {
          "base_uri": "https://localhost:8080/"
        }
      },
      "source": [
        "hasil=\"Kamu berhak memiliki SIM\" if umur>=18 else \"Kamu belum berhak memiliki SIM\"\n",
        "print(hasil)"
      ],
      "execution_count": 4,
      "outputs": [
        {
          "output_type": "stream",
          "name": "stdout",
          "text": [
            "Kamu berhak memiliki SIM\n"
          ]
        }
      ]
    },
    {
      "cell_type": "code",
      "metadata": {
        "id": "veEbff_yRvWD",
        "outputId": "099afea8-0907-482a-b7cb-f130dc677b84",
        "colab": {
          "base_uri": "https://localhost:8080/"
        }
      },
      "source": [
        "bilangan=0\n",
        "cek_bilangan=\"Positif\" if bilangan>0 else \"Negatif\"\n",
        "print(cek_bilangan)"
      ],
      "execution_count": 7,
      "outputs": [
        {
          "output_type": "stream",
          "name": "stdout",
          "text": [
            "Negatif\n"
          ]
        }
      ]
    },
    {
      "cell_type": "code",
      "metadata": {
        "id": "z1KOfwfHSHQr",
        "outputId": "964fa5b0-b8f8-40c9-ae09-a2b1a7f2150b",
        "colab": {
          "base_uri": "https://localhost:8080/"
        }
      },
      "source": [
        "bilangan=0\n",
        "if bilangan>0:\n",
        "  hasil=\"Positif\"\n",
        "elif bilangan<0:\n",
        "  hasil=\"Negatif\"\n",
        "else:\n",
        "  hasil=\"Netral\" \n",
        "\n",
        "print(f\"{bilangan} adalah bilangan {hasil}\") "
      ],
      "execution_count": 12,
      "outputs": [
        {
          "output_type": "stream",
          "name": "stdout",
          "text": [
            "0 adalah bilangan Netral\n"
          ]
        }
      ]
    },
    {
      "cell_type": "code",
      "metadata": {
        "id": "2JUMa9amVCkO",
        "outputId": "b02edfbd-c762-4075-9c0e-551096fcd3c0",
        "colab": {
          "base_uri": "https://localhost:8080/",
          "height": 171
        }
      },
      "source": [
        "print(4/0)"
      ],
      "execution_count": 13,
      "outputs": [
        {
          "output_type": "error",
          "ename": "ZeroDivisionError",
          "evalue": "ignored",
          "traceback": [
            "\u001b[0;31m---------------------------------------------------------------------------\u001b[0m",
            "\u001b[0;31mZeroDivisionError\u001b[0m                         Traceback (most recent call last)",
            "\u001b[0;32m<ipython-input-13-4bf1a7e4a751>\u001b[0m in \u001b[0;36m<module>\u001b[0;34m()\u001b[0m\n\u001b[0;32m----> 1\u001b[0;31m \u001b[0mprint\u001b[0m\u001b[0;34m(\u001b[0m\u001b[0;36m4\u001b[0m\u001b[0;34m/\u001b[0m\u001b[0;36m0\u001b[0m\u001b[0;34m)\u001b[0m\u001b[0;34m\u001b[0m\u001b[0;34m\u001b[0m\u001b[0m\n\u001b[0m",
            "\u001b[0;31mZeroDivisionError\u001b[0m: division by zero"
          ]
        }
      ]
    },
    {
      "cell_type": "code",
      "metadata": {
        "id": "JhY0p3JJVIrw",
        "outputId": "b997fb55-c9f3-4a18-c885-9046264caff4",
        "colab": {
          "base_uri": "https://localhost:8080/",
          "height": 207
        }
      },
      "source": [
        "import math\n",
        "\n",
        "print(math.sqrt(-9))"
      ],
      "execution_count": 16,
      "outputs": [
        {
          "output_type": "error",
          "ename": "ValueError",
          "evalue": "ignored",
          "traceback": [
            "\u001b[0;31m---------------------------------------------------------------------------\u001b[0m",
            "\u001b[0;31mValueError\u001b[0m                                Traceback (most recent call last)",
            "\u001b[0;32m<ipython-input-16-94844651de13>\u001b[0m in \u001b[0;36m<module>\u001b[0;34m()\u001b[0m\n\u001b[1;32m      1\u001b[0m \u001b[0;32mimport\u001b[0m \u001b[0mmath\u001b[0m\u001b[0;34m\u001b[0m\u001b[0;34m\u001b[0m\u001b[0m\n\u001b[1;32m      2\u001b[0m \u001b[0;34m\u001b[0m\u001b[0m\n\u001b[0;32m----> 3\u001b[0;31m \u001b[0mprint\u001b[0m\u001b[0;34m(\u001b[0m\u001b[0mmath\u001b[0m\u001b[0;34m.\u001b[0m\u001b[0msqrt\u001b[0m\u001b[0;34m(\u001b[0m\u001b[0;34m-\u001b[0m\u001b[0;36m9\u001b[0m\u001b[0;34m)\u001b[0m\u001b[0;34m)\u001b[0m\u001b[0;34m\u001b[0m\u001b[0;34m\u001b[0m\u001b[0m\n\u001b[0m",
            "\u001b[0;31mValueError\u001b[0m: math domain error"
          ]
        }
      ]
    },
    {
      "cell_type": "code",
      "metadata": {
        "id": "-t_Fh4_NVk4N",
        "outputId": "449d601c-6823-4174-d54d-2a2f869311a4",
        "colab": {
          "base_uri": "https://localhost:8080/"
        }
      },
      "source": [
        "#Input data\n",
        "a=int(input(\"Masukan nilai a ?\"))\n",
        "b=int(input(\"Masukan nilai b ?\"))\n",
        "c=int(input(\"Masukan nilai c ?\"))\n",
        "\n",
        "#Proses menghitung determinan dengan rumus b^2-4ac\n",
        "d=b**2-(4*a*c)\n",
        "\n",
        "#Proses menyeleksi nilai determinan\n",
        "if d>0:\n",
        "  jenis_akar=\"X1 dan X2 adalah akar real berbeda\"\n",
        "elif d==0:\n",
        "  jenis_akar=\"X1 dan X2 adalah akar kembar(sama)\"\n",
        "else:\n",
        "  jenis_akar=\"X1 dan X2 adalah akar imajiner\"\n",
        "\n",
        "#Prose menghitung nilai x1 dan x2\n",
        "if d>=0:\n",
        "  x1=(-b+math.sqrt(d))/(2*a)\n",
        "  x2=(-b-math.sqrt(d))/(2*a)\n",
        "else:\n",
        "  x1=x2=\"Imajiner\"\n",
        "  \n",
        "print(f\"{jenis_akar} untuk nilai determinan adalah {d}\")\n",
        "print(f\"X1={x1}, X2={x2}\")\n",
        "\n"
      ],
      "execution_count": 26,
      "outputs": [
        {
          "output_type": "stream",
          "name": "stdout",
          "text": [
            "Masukan nilai a ?4\n",
            "Masukan nilai b ?45\n",
            "Masukan nilai c ?120\n",
            "X1 dan X2 adalah akar real berbeda untuk nilai determinan adalah 105\n",
            "X1=-4.3441311542550505, X2=-6.9058688457449495\n"
          ]
        }
      ]
    },
    {
      "cell_type": "code",
      "metadata": {
        "id": "pvFq0hhGdfvj",
        "outputId": "8e2cc406-ca4e-4e87-fc69-af1bcefaa056",
        "colab": {
          "base_uri": "https://localhost:8080/"
        }
      },
      "source": [
        "#Input nilai absen, tugas , uts dan uas\n",
        "absen=int(input(\"Masukkan nilai absensi ?\"))\n",
        "tugas=int(input(\"Masukkan nilai tugas ?\"))\n",
        "uts=int(input(\"Masukkan nilai uts ?\"))\n",
        "uas=int(input(\"Masukkan nilai uas ?\"))\n",
        "\n",
        "\n",
        "NA=(absen*0.4)+(tugas*0.1)+(uts*0.2)+(uas*0.3)\n",
        "\n",
        "if NA>=85 :\n",
        "  nh=\"A\"\n",
        "elif NA>=75:\n",
        "  nh=\"B\"\n",
        "elif NA>=50:\n",
        "  nh=\"C\"\n",
        "elif NA>=40:\n",
        "  nh=\"D\"\n",
        "else:\n",
        "  nh=\"E\"\n",
        "\n",
        "print(f\"Nilai angka adalah {NA} dan nilai hurup adalah {nh}\")\n"
      ],
      "execution_count": 27,
      "outputs": [
        {
          "output_type": "stream",
          "name": "stdout",
          "text": [
            "Masukkan nilai absensi ?60\n",
            "Masukkan nilai tugas ?100\n",
            "Masukkan nilai uts ?80\n",
            "Masukkan nilai uas ?50\n",
            "Nilai angka adalah 65.0 dan nilai hurup adalah C\n"
          ]
        }
      ]
    }
  ]
}