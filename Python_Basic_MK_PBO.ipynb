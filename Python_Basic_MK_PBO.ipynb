{
  "nbformat": 4,
  "nbformat_minor": 0,
  "metadata": {
    "colab": {
      "name": "Python Basic.ipynb",
      "provenance": [],
      "authorship_tag": "ABX9TyMtiGocdohsWYmSjwhRWGYP",
      "include_colab_link": true
    },
    "kernelspec": {
      "name": "python3",
      "display_name": "Python 3"
    },
    "language_info": {
      "name": "python"
    }
  },
  "cells": [
    {
      "cell_type": "markdown",
      "metadata": {
        "id": "view-in-github",
        "colab_type": "text"
      },
      "source": [
        "<a href=\"https://colab.research.google.com/github/asepmuhidin/workshop221120/blob/main/Python_Basic_MK_PBO.ipynb\" target=\"_parent\"><img src=\"https://colab.research.google.com/assets/colab-badge.svg\" alt=\"Open In Colab\"/></a>"
      ]
    },
    {
      "cell_type": "markdown",
      "metadata": {
        "id": "_r1IEoAa1Hv9"
      },
      "source": [
        "# Python Basic"
      ]
    },
    {
      "cell_type": "code",
      "metadata": {
        "colab": {
          "base_uri": "https://localhost:8080/"
        },
        "id": "DNx1Ccn108Wp",
        "outputId": "0795d5be-669d-4d22-b213-1219f5da6920"
      },
      "source": [
        "#perintah Ouput,menggunakan print()\n",
        "print(\"Hello..\")\n"
      ],
      "execution_count": 1,
      "outputs": [
        {
          "output_type": "stream",
          "name": "stdout",
          "text": [
            "Hello..\n"
          ]
        }
      ]
    },
    {
      "cell_type": "code",
      "metadata": {
        "colab": {
          "base_uri": "https://localhost:8080/"
        },
        "id": "L6PQDPw51FpD",
        "outputId": "8c84d269-0cb5-4fe6-e09b-f99094921702"
      },
      "source": [
        "#Perintah input, menggunakan input()\n",
        "nama=input(\"Nama anda ?\")\n",
        "print(nama)"
      ],
      "execution_count": 2,
      "outputs": [
        {
          "output_type": "stream",
          "name": "stdout",
          "text": [
            "Nama anda ?Dedi\n",
            "Dedi\n"
          ]
        }
      ]
    },
    {
      "cell_type": "code",
      "metadata": {
        "colab": {
          "base_uri": "https://localhost:8080/"
        },
        "id": "92lOCssr1Fy8",
        "outputId": "5a32ba99-10d6-4d9d-ba2d-e42f093ba1ad"
      },
      "source": [
        "#Perintah input, menggunakan input()\n",
        "nama=input(\"Nama anda ?\")\n",
        "print(\"Hello..\",nama)"
      ],
      "execution_count": 3,
      "outputs": [
        {
          "output_type": "stream",
          "name": "stdout",
          "text": [
            "Nama anda ?Dedi\n",
            "Hello.. Dedi\n"
          ]
        }
      ]
    },
    {
      "cell_type": "code",
      "metadata": {
        "colab": {
          "base_uri": "https://localhost:8080/"
        },
        "id": "zwRNDa1H1F8p",
        "outputId": "e1cb6a2b-2191-4bc1-ca44-f532a9448841"
      },
      "source": [
        "print(f\"Hello..{nama}\")"
      ],
      "execution_count": 4,
      "outputs": [
        {
          "output_type": "stream",
          "name": "stdout",
          "text": [
            "Hello..Dedi\n"
          ]
        }
      ]
    },
    {
      "cell_type": "code",
      "metadata": {
        "colab": {
          "base_uri": "https://localhost:8080/"
        },
        "id": "lPrm3FAL2pcA",
        "outputId": "60e5d6e0-b741-4915-ebe8-ae06e36a2298"
      },
      "source": [
        "#Ternary Operator (untuk 2 kondisi)\n",
        "bilangan=2\n",
        "cek_bilangan=\"Positif\" if bilangan>0 else \"Negatif\"\n",
        "print(f\"Bilangan {bilangan} adalah {cek_bilangan}\")\n"
      ],
      "execution_count": 8,
      "outputs": [
        {
          "output_type": "stream",
          "name": "stdout",
          "text": [
            "Bilangan 2 adalah Positif\n"
          ]
        }
      ]
    },
    {
      "cell_type": "code",
      "metadata": {
        "colab": {
          "base_uri": "https://localhost:8080/"
        },
        "id": "dFzoxg2G3et-",
        "outputId": "e91f6bf9-8d43-4f68-8c90-38b278c1a2da"
      },
      "source": [
        "bilangan=0\n",
        "\n",
        "if (bilangan>0):\n",
        "  cek_bilangan=\"Positif\"\n",
        "elif (bilangan<0):\n",
        "  cek_bilangan=\"Negatif\"\n",
        "else:\n",
        "  cek_bilangan=\"Nol\"     \n",
        "\n",
        "print(f\"Bilangan {bilangan} adalah {cek_bilangan}\")"
      ],
      "execution_count": 12,
      "outputs": [
        {
          "output_type": "stream",
          "name": "stdout",
          "text": [
            "Bilangan 0 adalah Nol\n"
          ]
        }
      ]
    },
    {
      "cell_type": "code",
      "metadata": {
        "colab": {
          "base_uri": "https://localhost:8080/"
        },
        "id": "6qkCYp9_4cLf",
        "outputId": "383f7a69-c290-450b-85d0-30dd3bb1f237"
      },
      "source": [
        "#Operator Matematika\n",
        "# 5 / 2 =2.5\n",
        "# 5 % 2 =1\n",
        "# 6 % 2 =0\n",
        "\n",
        "bilangan=29\n",
        "\n",
        "if (bilangan%2==0):\n",
        "  cek_bilangan=\"Genap\"\n",
        "elif (bilangan%2==1):\n",
        "  cek_bilangan=\"Ganjil\"\n",
        "else:\n",
        "  cek_bilangan=\"Nol\"     \n",
        "\n",
        "print(f\"Bilangan {bilangan} adalah {cek_bilangan}\")"
      ],
      "execution_count": 16,
      "outputs": [
        {
          "output_type": "stream",
          "name": "stdout",
          "text": [
            "Bilangan 29 adalah Ganjil\n"
          ]
        }
      ]
    },
    {
      "cell_type": "code",
      "metadata": {
        "id": "F3elYEyP5XD2",
        "outputId": "8be2e76c-a466-414f-d0bd-27c0f38ec50a",
        "colab": {
          "base_uri": "https://localhost:8080/"
        }
      },
      "source": [
        "for i in range(5):\n",
        "  print(i, end=\",\")"
      ],
      "execution_count": 19,
      "outputs": [
        {
          "output_type": "stream",
          "name": "stdout",
          "text": [
            "0,1,2,3,4,"
          ]
        }
      ]
    },
    {
      "cell_type": "code",
      "metadata": {
        "id": "Tg70d24X5sie",
        "outputId": "eacabd17-91a6-4792-91c7-1f776cabc99e",
        "colab": {
          "base_uri": "https://localhost:8080/"
        }
      },
      "source": [
        "for i in range(1,11,1):\n",
        "  print(i, end=\",\")"
      ],
      "execution_count": 21,
      "outputs": [
        {
          "output_type": "stream",
          "name": "stdout",
          "text": [
            "1,2,3,4,5,6,7,8,9,10,"
          ]
        }
      ]
    },
    {
      "cell_type": "code",
      "metadata": {
        "id": "5USq_8A46BGS",
        "outputId": "596bac30-cd84-4f47-d05e-5b8696e90100",
        "colab": {
          "base_uri": "https://localhost:8080/"
        }
      },
      "source": [
        "for i in range(1,25,2):\n",
        "  print(i, end=\",\")"
      ],
      "execution_count": 22,
      "outputs": [
        {
          "output_type": "stream",
          "name": "stdout",
          "text": [
            "1,3,5,7,9,11,13,15,17,19,21,23,"
          ]
        }
      ]
    },
    {
      "cell_type": "code",
      "metadata": {
        "id": "VQ-ZjdI46JuD",
        "outputId": "e6bf466e-5a8b-46b6-cdad-42017a1f3cb2",
        "colab": {
          "base_uri": "https://localhost:8080/"
        }
      },
      "source": [
        "for i in range(30,-1,-2):\n",
        "  print(i, end=\",\")"
      ],
      "execution_count": 25,
      "outputs": [
        {
          "output_type": "stream",
          "name": "stdout",
          "text": [
            "30,28,26,24,22,20,18,16,14,12,10,8,6,4,2,0,"
          ]
        }
      ]
    },
    {
      "cell_type": "code",
      "metadata": {
        "id": "xCi11HK86m_Q",
        "outputId": "42d27fe2-99a7-42b1-bd25-fb786083d586",
        "colab": {
          "base_uri": "https://localhost:8080/"
        }
      },
      "source": [
        "for i in range(10,4,-1):\n",
        "  print(i, end=\",\")"
      ],
      "execution_count": 26,
      "outputs": [
        {
          "output_type": "stream",
          "name": "stdout",
          "text": [
            "10,9,8,7,6,5,"
          ]
        }
      ]
    },
    {
      "cell_type": "code",
      "metadata": {
        "id": "Yd1FxYfp66_d",
        "outputId": "a564d2c7-aced-45d4-9208-b65bdd71b354",
        "colab": {
          "base_uri": "https://localhost:8080/"
        }
      },
      "source": [
        "nama=[\"Dedi\",\"Dodo\",\"Dede\",\"Dudu\"]\n",
        "print(nama[3])"
      ],
      "execution_count": 29,
      "outputs": [
        {
          "output_type": "stream",
          "name": "stdout",
          "text": [
            "Dudu\n"
          ]
        }
      ]
    },
    {
      "cell_type": "code",
      "metadata": {
        "id": "s4IYGdAf7YLm",
        "outputId": "3fbac6bb-edd5-4761-8457-55679f1b266f",
        "colab": {
          "base_uri": "https://localhost:8080/"
        }
      },
      "source": [
        "nama[2]=\"Didi\"\n",
        "print(nama)"
      ],
      "execution_count": 30,
      "outputs": [
        {
          "output_type": "stream",
          "name": "stdout",
          "text": [
            "['Dedi', 'Dodo', 'Didi', 'Dudu']\n"
          ]
        }
      ]
    },
    {
      "cell_type": "code",
      "metadata": {
        "id": "Jmqx6lsM7mEv",
        "outputId": "ac94e5dc-3c18-42c8-9e2c-56ed428fb3c1",
        "colab": {
          "base_uri": "https://localhost:8080/"
        }
      },
      "source": [
        "nama.append(\"Dede\")\n",
        "print(nama)"
      ],
      "execution_count": 31,
      "outputs": [
        {
          "output_type": "stream",
          "name": "stdout",
          "text": [
            "['Dedi', 'Dodo', 'Didi', 'Dudu', 'Dede']\n"
          ]
        }
      ]
    },
    {
      "cell_type": "code",
      "metadata": {
        "id": "nGyr0xTW70P5",
        "outputId": "b780aebc-6184-4edc-bcbd-8fd11fc90b85",
        "colab": {
          "base_uri": "https://localhost:8080/"
        }
      },
      "source": [
        "nama.sort()\n",
        "print(nama)"
      ],
      "execution_count": 32,
      "outputs": [
        {
          "output_type": "stream",
          "name": "stdout",
          "text": [
            "['Dede', 'Dedi', 'Didi', 'Dodo', 'Dudu']\n"
          ]
        }
      ]
    },
    {
      "cell_type": "code",
      "metadata": {
        "id": "ub6pFx1D77mM",
        "outputId": "8d958272-d8b1-4f61-f966-8153f1fa590b",
        "colab": {
          "base_uri": "https://localhost:8080/"
        }
      },
      "source": [
        "nama.reverse()\n",
        "print(nama)"
      ],
      "execution_count": 34,
      "outputs": [
        {
          "output_type": "stream",
          "name": "stdout",
          "text": [
            "['Dede', 'Dedi', 'Didi', 'Dodo', 'Dudu']\n"
          ]
        }
      ]
    },
    {
      "cell_type": "code",
      "metadata": {
        "id": "YsP7ysTk8GCY",
        "outputId": "80f76de9-fef0-41b6-b809-7c3ddfb819f0",
        "colab": {
          "base_uri": "https://localhost:8080/"
        }
      },
      "source": [
        "nama=(\"Dedi\",\"Dodo\",\"Dede\",\"Dudu\")\n",
        "print(nama)"
      ],
      "execution_count": 35,
      "outputs": [
        {
          "output_type": "stream",
          "name": "stdout",
          "text": [
            "('Dedi', 'Dodo', 'Dede', 'Dudu')\n"
          ]
        }
      ]
    },
    {
      "cell_type": "code",
      "metadata": {
        "id": "MMiXSwXS8VRO",
        "outputId": "d0ae6705-36c3-4bd8-ebb1-0086cc56755b",
        "colab": {
          "base_uri": "https://localhost:8080/"
        }
      },
      "source": [
        "print(nama[1])"
      ],
      "execution_count": 37,
      "outputs": [
        {
          "output_type": "stream",
          "name": "stdout",
          "text": [
            "Dodo\n"
          ]
        }
      ]
    },
    {
      "cell_type": "code",
      "metadata": {
        "id": "AXHAnZ8B8mSt",
        "outputId": "104a5505-f397-40c8-e408-52223849623e",
        "colab": {
          "base_uri": "https://localhost:8080/"
        }
      },
      "source": [
        "kamus={\"makan\":\"eat\",\"minum\":\"drink\",\"tidur\":\"sleep\"}\n",
        "print(kamus[\"tidur\"])"
      ],
      "execution_count": 39,
      "outputs": [
        {
          "output_type": "stream",
          "name": "stdout",
          "text": [
            "sleep\n"
          ]
        }
      ]
    },
    {
      "cell_type": "code",
      "metadata": {
        "id": "eg29-T0V8mcS",
        "outputId": "db1237ba-c553-4e84-8dc9-5ea87f6b8690",
        "colab": {
          "base_uri": "https://localhost:8080/"
        }
      },
      "source": [
        "for k,v in kamus.items():\n",
        "  print(f\"{k} artinya {v}\")"
      ],
      "execution_count": 43,
      "outputs": [
        {
          "output_type": "stream",
          "name": "stdout",
          "text": [
            "makan artinya eat\n",
            "minum artinya drink\n",
            "tidur artinya sleep\n"
          ]
        }
      ]
    },
    {
      "cell_type": "code",
      "metadata": {
        "id": "B8kgNAYt-suD",
        "outputId": "d175dbca-2e83-4240-862d-7ce6a13e24f2",
        "colab": {
          "base_uri": "https://localhost:8080/"
        }
      },
      "source": [
        "for i in kamus.items():\n",
        "  print(i)"
      ],
      "execution_count": 46,
      "outputs": [
        {
          "output_type": "stream",
          "name": "stdout",
          "text": [
            "('makan', 'eat')\n",
            "('minum', 'drink')\n",
            "('tidur', 'sleep')\n"
          ]
        }
      ]
    },
    {
      "cell_type": "code",
      "metadata": {
        "id": "fMkHXvVD8mez",
        "outputId": "075718b3-da6a-4c32-dae4-c624cd156f38",
        "colab": {
          "base_uri": "https://localhost:8080/"
        }
      },
      "source": [
        "for namanya in nama:\n",
        "  print(namanya)"
      ],
      "execution_count": 44,
      "outputs": [
        {
          "output_type": "stream",
          "name": "stdout",
          "text": [
            "Dedi\n",
            "Dodo\n",
            "Dede\n",
            "Dudu\n"
          ]
        }
      ]
    },
    {
      "cell_type": "code",
      "metadata": {
        "id": "A6JNuPWE-BTe",
        "outputId": "0d231680-a122-4981-9fb5-b30823a026bb",
        "colab": {
          "base_uri": "https://localhost:8080/"
        }
      },
      "source": [
        "bilangan={2,3,1,2,4,5,3}\n",
        "print(bilangan)"
      ],
      "execution_count": 45,
      "outputs": [
        {
          "output_type": "stream",
          "name": "stdout",
          "text": [
            "{1, 2, 3, 4, 5}\n"
          ]
        }
      ]
    }
  ]
}